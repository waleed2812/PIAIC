{
 "cells": [
  {
   "cell_type": "code",
   "execution_count": 1,
   "metadata": {},
   "outputs": [
    {
     "data": {
      "text/plain": [
       "['__add__',\n",
       " '__class__',\n",
       " '__contains__',\n",
       " '__delattr__',\n",
       " '__delitem__',\n",
       " '__dir__',\n",
       " '__doc__',\n",
       " '__eq__',\n",
       " '__format__',\n",
       " '__ge__',\n",
       " '__getattribute__',\n",
       " '__getitem__',\n",
       " '__gt__',\n",
       " '__hash__',\n",
       " '__iadd__',\n",
       " '__imul__',\n",
       " '__init__',\n",
       " '__init_subclass__',\n",
       " '__iter__',\n",
       " '__le__',\n",
       " '__len__',\n",
       " '__lt__',\n",
       " '__mul__',\n",
       " '__ne__',\n",
       " '__new__',\n",
       " '__reduce__',\n",
       " '__reduce_ex__',\n",
       " '__repr__',\n",
       " '__reversed__',\n",
       " '__rmul__',\n",
       " '__setattr__',\n",
       " '__setitem__',\n",
       " '__sizeof__',\n",
       " '__str__',\n",
       " '__subclasshook__',\n",
       " 'append',\n",
       " 'clear',\n",
       " 'copy',\n",
       " 'count',\n",
       " 'extend',\n",
       " 'index',\n",
       " 'insert',\n",
       " 'pop',\n",
       " 'remove',\n",
       " 'reverse',\n",
       " 'sort']"
      ]
     },
     "execution_count": 1,
     "metadata": {},
     "output_type": "execute_result"
    }
   ],
   "source": [
    "dir(list)"
   ]
  },
  {
   "cell_type": "code",
   "execution_count": 2,
   "metadata": {},
   "outputs": [
    {
     "name": "stdout",
     "output_type": "stream",
     "text": [
      "['Waleed', 'Butt', 'Hamza', 7, 4, 3]\n"
     ]
    }
   ],
   "source": [
    "names = [\"Waleed\",\"Butt\",\"Hamza\",7,4,3]\n",
    "print(names)"
   ]
  },
  {
   "cell_type": "code",
   "execution_count": 6,
   "metadata": {},
   "outputs": [
    {
     "name": "stdout",
     "output_type": "stream",
     "text": [
      "Enter Student Name: Waleed\n",
      "Enter Father Name: Amir\n",
      "Enter Contact Number: 839749827312\n",
      "Enter More Record?\n",
      "Enter Y to add Y\n",
      "Enter Student Name: butt\n",
      "Enter Father Name: butt\n",
      "Enter Contact Number: 8937491207310298\n",
      "Enter More Record?\n",
      "Enter Y to add N\n",
      "['Name: WaleedFather Name: AmirContact: 839749827312', 'Name: buttFather Name: buttContact: 8937491207310298']\n"
     ]
    }
   ],
   "source": [
    "check = True\n",
    "record = []\n",
    "while(check):\n",
    "    name = input(\"Enter Student Name: \")\n",
    "    fname = input(\"Enter Father Name: \")\n",
    "    contact = input(\"Enter Contact Number: \")\n",
    "    record.append(\"Name: \"+name+\" Father Name: \"+fname+\" Contact: \"+contact)\n",
    "    inp = input(\"Enter More Record?\\nEnter Y to add \")\n",
    "    if inp == \"Y\":\n",
    "        continue\n",
    "    else:\n",
    "        check=False\n",
    "print(record)"
   ]
  },
  {
   "cell_type": "code",
   "execution_count": 9,
   "metadata": {},
   "outputs": [
    {
     "name": "stdout",
     "output_type": "stream",
     "text": [
      "1000\n",
      "999\n",
      "998\n",
      "997\n",
      "996\n",
      "995\n",
      "994\n",
      "993\n",
      "992\n",
      "991\n",
      "990\n",
      "1000\n",
      "999\n",
      "998\n",
      "997\n",
      "996\n",
      "995\n",
      "994\n",
      "993\n",
      "992\n",
      "991\n",
      "990\n"
     ]
    }
   ],
   "source": [
    "i = 1000\n",
    "while(i>=990):\n",
    "    print(i)\n",
    "    i -=1\n",
    "for i in range(1000,989,-1):\n",
    "    print(i)"
   ]
  },
  {
   "cell_type": "code",
   "execution_count": 15,
   "metadata": {},
   "outputs": [
    {
     "name": "stdout",
     "output_type": "stream",
     "text": [
      "A a 0\n",
      "B b 1\n",
      "C c 2\n",
      "D d 3\n",
      "E e 4\n",
      "F f 5\n",
      "G g 6\n",
      "H h 7\n",
      "I i 8\n",
      "J j 0\n",
      "K k 1\n",
      "L l 2\n",
      "M m 3\n",
      "N n 4\n",
      "O o 5\n",
      "P p 6\n",
      "Q q 7\n",
      "R r 8\n",
      "S s 0\n",
      "T t 1\n",
      "U u 2\n",
      "V v 3\n",
      "W w 4\n",
      "X x 5\n",
      "Y y 6\n",
      "Z z 7\n"
     ]
    }
   ],
   "source": [
    "j=48\n",
    "for i in range(65,91,1):\n",
    "    print(chr(i)+\" \"+chr(i+32)+\" \"+chr(j))\n",
    "    j +=1\n",
    "    if(j == 57):\n",
    "        j = 48"
   ]
  },
  {
   "cell_type": "code",
   "execution_count": 22,
   "metadata": {},
   "outputs": [
    {
     "name": "stdout",
     "output_type": "stream",
     "text": [
      "Enter Number: 4\n",
      "1 X 1 = 1\t2 X 1 = 2\t3 X 1 = 3\t4 X 1 = 4\t\n",
      "1 X 2 = 2\t2 X 2 = 4\t3 X 2 = 6\t4 X 2 = 8\t\n",
      "1 X 3 = 3\t2 X 3 = 6\t3 X 3 = 9\t4 X 3 = 12\t\n",
      "1 X 4 = 4\t2 X 4 = 8\t3 X 4 = 12\t4 X 4 = 16\t\n",
      "1 X 5 = 5\t2 X 5 = 10\t3 X 5 = 15\t4 X 5 = 20\t\n",
      "1 X 6 = 6\t2 X 6 = 12\t3 X 6 = 18\t4 X 6 = 24\t\n",
      "1 X 7 = 7\t2 X 7 = 14\t3 X 7 = 21\t4 X 7 = 28\t\n",
      "1 X 8 = 8\t2 X 8 = 16\t3 X 8 = 24\t4 X 8 = 32\t\n",
      "1 X 9 = 9\t2 X 9 = 18\t3 X 9 = 27\t4 X 9 = 36\t\n",
      "1 X 10 = 10\t2 X 10 = 20\t3 X 10 = 30\t4 X 10 = 40\t\n"
     ]
    }
   ],
   "source": [
    "inp = eval(input(\"Enter Number: \"))\n",
    "for i in range (1,11,1):\n",
    "    for j in range (1,(inp+1),1):\n",
    "        print(\"{} X {} = {}\".format(j,i,i*j),end=\"\\t\")\n",
    "    print()"
   ]
  },
  {
   "cell_type": "code",
   "execution_count": 28,
   "metadata": {},
   "outputs": [
    {
     "name": "stdout",
     "output_type": "stream",
     "text": [
      "5\tis on Row 1 Column 2\n",
      "10\tis on Row 2 Column 3\n",
      "20\tis on Row 3 Column 1\n",
      "30\tis on Row 3 Column 2\n"
     ]
    }
   ],
   "source": [
    "matrix = [[2,5,9],[8,9,10],[20,30,27],[35,9,20]]\n",
    "\n",
    "for i in range(0,3,1):\n",
    "    for j in range(0,3,1):\n",
    "        if matrix[i][j] % 5 == 0:\n",
    "            print(\"{}\\tis on Row {} Column {}\".format(matrix[i][j],(i+1),(j+1)))"
   ]
  },
  {
   "cell_type": "code",
   "execution_count": 27,
   "metadata": {
    "scrolled": true
   },
   "outputs": [
    {
     "name": "stdout",
     "output_type": "stream",
     "text": [
      "140 280 420 560 700 840 980 "
     ]
    }
   ],
   "source": [
    "for i in range(1,1001,1):\n",
    "    if i%5==0 and i%7==0 and i%20==0:\n",
    "        print(i,end=\" \")"
   ]
  },
  {
   "cell_type": "code",
   "execution_count": 34,
   "metadata": {},
   "outputs": [
    {
     "name": "stdout",
     "output_type": "stream",
     "text": [
      "You go to a gorgeous girl and say Marry Me: no\n",
      "Your friend went to a gorgeous girl and said Marry Him: no\n",
      "Gorgeous girl walks to you and said Marry Me: n\n",
      "You went to a gorgeous girl and said Marry Him and She slaps: no\n",
      "You say to gorgeous girl Marry Him and Her husband comes: no\n",
      "Your wife came before all this: yes\n",
      "Interruption\n"
     ]
    }
   ],
   "source": [
    "inp = input(\"You go to a gorgeous girl and say Marry Me: \")\n",
    "if inp == \"yes\":\n",
    "    print(\"Direct Marketig\")\n",
    "else:\n",
    "    inp = input(\"Your friend went to a gorgeous girl and said Marry Him: \")\n",
    "    if inp == \"yes\":\n",
    "        print(\"Advertising\")\n",
    "    else:\n",
    "        inp = input(\"Gorgeous girl walks to you and said Marry Me: \")\n",
    "        if inp == \"yes\":\n",
    "            print(\"Brand Recognition\")\n",
    "        else:\n",
    "            inp = input(\"You went to a gorgeous girl and said Marry Him and She slaps: \")\n",
    "            if inp == \"yes\":\n",
    "                print(\"Customer Feedback\")\n",
    "            else:\n",
    "                inp = input(\"You say to gorgeous girl Marry Him and Her husband comes: \")\n",
    "                if inp == \"yes\":\n",
    "                    print(\"Demand and supply\")\n",
    "                else:\n",
    "                    inp = input(\"Your wife came before all this: \")\n",
    "                    if inp == \"yes\":\n",
    "                        print(\"Interruption\")\n",
    "                    else:\n",
    "                        print(\"Something must have happened\")"
   ]
  }
 ],
 "metadata": {
  "kernelspec": {
   "display_name": "Python 3",
   "language": "python",
   "name": "python3"
  },
  "language_info": {
   "codemirror_mode": {
    "name": "ipython",
    "version": 3
   },
   "file_extension": ".py",
   "mimetype": "text/x-python",
   "name": "python",
   "nbconvert_exporter": "python",
   "pygments_lexer": "ipython3",
   "version": "3.7.4"
  }
 },
 "nbformat": 4,
 "nbformat_minor": 2
}
