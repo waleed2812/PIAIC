{
 "cells": [
  {
   "cell_type": "markdown",
   "metadata": {},
   "source": [
    "# Task 1"
   ]
  },
  {
   "cell_type": "code",
   "execution_count": 5,
   "metadata": {},
   "outputs": [
    {
     "name": "stdout",
     "output_type": "stream",
     "text": [
      "Enter Grade: 45\n",
      "E\n"
     ]
    }
   ],
   "source": [
    "grade = int(input(\"Enter Grade: \"))\n",
    "if grade >= 90:\n",
    "    print(\"A\")\n",
    "elif grade >= 80:\n",
    "    print(\"B\")\n",
    "elif grade >= 70:\n",
    "    print(\"C\")\n",
    "elif grade >= 60:\n",
    "    print(\"D\")\n",
    "else:\n",
    "    print(\"E\")"
   ]
  },
  {
   "cell_type": "markdown",
   "metadata": {},
   "source": [
    "# Task 2"
   ]
  },
  {
   "cell_type": "code",
   "execution_count": 16,
   "metadata": {},
   "outputs": [
    {
     "name": "stdout",
     "output_type": "stream",
     "text": [
      "Enter the Day on which DVD is rented: Sunday\n",
      "Enter the days customer kept the DVD: 10\n",
      "Enter the time at which DVD is returned (HH AM/PM): 11 PM\n",
      "Was the DVD scratched? (Y/N): N\n",
      "The bill is: 12.24$\n"
     ]
    }
   ],
   "source": [
    "dayRented = input(\"Enter the Day on which DVD is rented: \")\n",
    "daysKept = int(input(\"Enter the days customer kept the DVD: \"))\n",
    "time = input(\"Enter the time at which DVD is returned (HH AM/PM): \")\n",
    "condition = input(\"Was the DVD scratched? (Y/N): \")\n",
    "# Checking Time for return\n",
    "if time[-2:-1] == \"P\" and int(time[0:2]) >= 8:\n",
    "    daysKept +=1\n",
    "#Calculating bill\n",
    "bill = daysKept * 1.59\n",
    "# Discount and Extra Charge for Damage\n",
    "if condition == \"Y\":\n",
    "        bill += 1\n",
    "if dayRented == \"Sunday\":\n",
    "    if condition == \"Y\":\n",
    "        bill += 1\n",
    "    bill -= bill * 0.3\n",
    "elif dayRented == \"Thursday\":\n",
    "    bill -= bill * 0.5\n",
    "    \n",
    "print(\"The bill is: {:.2f} $\".format(bill))"
   ]
  },
  {
   "cell_type": "markdown",
   "metadata": {},
   "source": [
    "# Task 3"
   ]
  },
  {
   "cell_type": "code",
   "execution_count": 7,
   "metadata": {},
   "outputs": [
    {
     "name": "stdout",
     "output_type": "stream",
     "text": [
      "Enter number 1 : 1345\n",
      "Enter number 2 : 34\n",
      "Enter number 3 : 5\n",
      "Enter number 4 : 1345\n",
      "Enter number 5 : 34\n",
      "Enter number 6 : 53145\n",
      "Enter number 7 : 134\n",
      "Enter number 8 : 5345\n",
      "Enter number 9 : 345134\n",
      "Enter number 10 : 431534\n",
      "Not Found\n"
     ]
    }
   ],
   "source": [
    "list1 =[]\n",
    "for i in range(0,10,1):\n",
    "    list1.append(int(input(\"Enter number {} : \".format(i+1))))\n",
    "i=0\n",
    "while i<len(list1):\n",
    "    if list1[i] == 6:\n",
    "        print(\"Index = {}\".format(i))\n",
    "        break\n",
    "    i +=1\n",
    "if (i == len(list1)):\n",
    "    print(\"Not Found\")"
   ]
  },
  {
   "cell_type": "markdown",
   "metadata": {},
   "source": [
    "# List of Dictionaries of List and Dictionaries"
   ]
  },
  {
   "cell_type": "code",
   "execution_count": 10,
   "metadata": {},
   "outputs": [
    {
     "name": "stdout",
     "output_type": "stream",
     "text": [
      "[{'name': 'Waleed', 'Marks': {'math': 30, 'english': 80, 'phy': 80}, 'hobbies': ['cricket', 'book reading']}, {'name': 'Bilal', 'Marks': {'math': 45, 'english': 89, 'phy': 70}, 'hobbies': ['painting', 'traveling']}]\n"
     ]
    }
   ],
   "source": [
    "l1=[\n",
    "        {\"name\":\"Waleed\",\n",
    "         \"Marks\":{\"math\":30,\"english\":80,\"phy\":80},\n",
    "         \"hobbies\": [\"cricket\",\"book reading\"]\n",
    "        },\n",
    "\n",
    "        {\"name\":\"Bilal\",\n",
    "         \"Marks\":{\"math\":45,\"english\":89,\"phy\":70},\n",
    "         \"hobbies\": [\"painting\",\"traveling\"]\n",
    "        }\n",
    "    ]\n",
    "print(l1)"
   ]
  }
 ],
 "metadata": {
  "kernelspec": {
   "display_name": "Python 3",
   "language": "python",
   "name": "python3"
  },
  "language_info": {
   "codemirror_mode": {
    "name": "ipython",
    "version": 3
   },
   "file_extension": ".py",
   "mimetype": "text/x-python",
   "name": "python",
   "nbconvert_exporter": "python",
   "pygments_lexer": "ipython3",
   "version": "3.7.4"
  }
 },
 "nbformat": 4,
 "nbformat_minor": 2
}
