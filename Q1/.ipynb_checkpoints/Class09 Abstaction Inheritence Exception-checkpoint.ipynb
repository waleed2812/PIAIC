{
 "cells": [
  {
   "cell_type": "code",
   "execution_count": 4,
   "metadata": {},
   "outputs": [
    {
     "name": "stdout",
     "output_type": "stream",
     "text": [
      "Ali\n",
      "123\n",
      "Ali Muhammad\n",
      "21\n"
     ]
    }
   ],
   "source": [
    "class A:\n",
    "    def __init__(this,name,age):\n",
    "        this.__name=name\n",
    "        this.__age=age\n",
    "    \n",
    "    def display(this):\n",
    "        print(this.__name + \"\\n\" + str(this.__age))\n",
    "    \n",
    "    def change(this,name,age):\n",
    "        this.__name=name\n",
    "        this.__age=age\n",
    "\n",
    "ali = A(\"Ali\",123)\n",
    "ali.display()\n",
    "ali.change(\"Ali Muhammad\",21)\n",
    "ali.display()"
   ]
  },
  {
   "cell_type": "code",
   "execution_count": 9,
   "metadata": {},
   "outputs": [
    {
     "name": "stdout",
     "output_type": "stream",
     "text": [
      "2\n",
      "5\n",
      "7\n",
      "9\n"
     ]
    }
   ],
   "source": [
    "class Abstract1:\n",
    "    def __init__(self,a,b):\n",
    "        self.a=a\n",
    "        self.b=b\n",
    "        \n",
    "class B(Abstract1):\n",
    "    pass\n",
    "ob1 = Abstract1(2,5)\n",
    "print(ob1.a)\n",
    "print(ob1.b)\n",
    "ob2 = B(7,9)\n",
    "print(ob2.a)\n",
    "print(ob2.b)"
   ]
  },
  {
   "cell_type": "code",
   "execution_count": 26,
   "metadata": {},
   "outputs": [
    {
     "name": "stdout",
     "output_type": "stream",
     "text": [
      "2\n",
      "5\n"
     ]
    }
   ],
   "source": [
    "from abc import ABC, abstractmethod\n",
    "class Abstract2(ABC):\n",
    "    \n",
    "    def __init__(self,a,b):\n",
    "        self.a=a\n",
    "        self.b=b\n",
    "    @abstractmethod\n",
    "    def abstractMethod(self):\n",
    "        pass\n",
    "class Abstract3(Abstract1):\n",
    "    def __init__(self,a,b):\n",
    "        super(Abstract3,self).__init__(a,b)\n",
    "    \n",
    "    def abstractMethod(self):\n",
    "        pass\n",
    "    pass\n",
    "\n",
    "obj = Abstract3(2,5)\n",
    "print(obj.a)\n",
    "print(obj.b)\n"
   ]
  },
  {
   "cell_type": "code",
   "execution_count": 46,
   "metadata": {},
   "outputs": [
    {
     "name": "stdout",
     "output_type": "stream",
     "text": [
      "782\n"
     ]
    }
   ],
   "source": [
    "class Object:\n",
    "    \n",
    "    def __init__(self,name):\n",
    "        self.__name=name\n",
    "        \n",
    "    def setName(self,name):\n",
    "        self.__name=name\n",
    "        \n",
    "    def getName(self):\n",
    "        return self.__name\n",
    "\n",
    "class Shape(Object,ABC):\n",
    "    \n",
    "    def __init__(self,name):\n",
    "        super(Shape,self).__init__(name)\n",
    "        pass\n",
    "        \n",
    "    @abstractmethod    \n",
    "    def getArea(self):\n",
    "        pass\n",
    "    \n",
    "class Square(Shape):\n",
    "    \n",
    "    def __init__(self,name,length,width):\n",
    "        super(Square,self).__init__(name)\n",
    "        try:\n",
    "            int(length)\n",
    "            int(width)\n",
    "        except:\n",
    "            raise Exception            \n",
    "        self.__length=length\n",
    "        self.__width=width\n",
    "        \n",
    "    def setWidth(self,width):\n",
    "        self.__width=width\n",
    "        \n",
    "    def getWidth(self):\n",
    "        return self.__width\n",
    "    \n",
    "    def setLength(self,length):\n",
    "        self.__length=length\n",
    "        \n",
    "    def getWidth(self):\n",
    "        return self.__length\n",
    "    \n",
    "    def getArea(self):\n",
    "        \n",
    "        return self.__length * self.__width\n",
    "try:\n",
    "    obj = Square(\"Bedroom\",23,34)\n",
    "    print(obj.getArea())\n",
    "except:\n",
    "    print(\"Invalid Data Type, Enter length.width as int\")\n"
   ]
  },
  {
   "cell_type": "code",
   "execution_count": null,
   "metadata": {},
   "outputs": [],
   "source": []
  }
 ],
 "metadata": {
  "kernelspec": {
   "display_name": "Python 3",
   "language": "python",
   "name": "python3"
  },
  "language_info": {
   "codemirror_mode": {
    "name": "ipython",
    "version": 3
   },
   "file_extension": ".py",
   "mimetype": "text/x-python",
   "name": "python",
   "nbconvert_exporter": "python",
   "pygments_lexer": "ipython3",
   "version": "3.7.4"
  }
 },
 "nbformat": 4,
 "nbformat_minor": 2
}
