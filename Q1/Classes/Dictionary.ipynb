{
 "cells": [
  {
   "cell_type": "markdown",
   "metadata": {},
   "source": [
    "# List"
   ]
  },
  {
   "cell_type": "code",
   "execution_count": 4,
   "metadata": {},
   "outputs": [
    {
     "data": {
      "text/plain": [
       "[123, 'Qasim', 'A.I']"
      ]
     },
     "execution_count": 4,
     "metadata": {},
     "output_type": "execute_result"
    }
   ],
   "source": [
    "# list[element1, element2,element3]\n",
    "#      0     1       2\n",
    "l1 = [123, \"Qasim\",\"A.I\"]\n",
    "#     -3      -2    -1\n",
    "\n",
    "#list[index] Get value from list\n",
    "l1"
   ]
  },
  {
   "cell_type": "code",
   "execution_count": 18,
   "metadata": {},
   "outputs": [
    {
     "data": {
      "text/plain": [
       "123"
      ]
     },
     "execution_count": 18,
     "metadata": {},
     "output_type": "execute_result"
    }
   ],
   "source": [
    "l1[0]"
   ]
  },
  {
   "cell_type": "code",
   "execution_count": 19,
   "metadata": {},
   "outputs": [
    {
     "data": {
      "text/plain": [
       "{'id': 5,\n",
       " 'name': 'Qasim',\n",
       " 'course': 'A.I',\n",
       " 'admission date': '2019-12-15',\n",
       " 'DOB': '01-01-2000'}"
      ]
     },
     "execution_count": 19,
     "metadata": {},
     "output_type": "execute_result"
    }
   ],
   "source": [
    "# dict[item1, item2, item3]\n",
    "#item = key:value\n",
    "\n",
    "d1 = {'id': 2,\n",
    "     'name':\"Qasim\",\n",
    "     'course':'A.I',\n",
    "      'id':5,\n",
    "     'admission date': '2019-12-15',\n",
    "     'DOB': '01-01-2000'}\n",
    "\n",
    "d1"
   ]
  },
  {
   "cell_type": "code",
   "execution_count": 22,
   "metadata": {},
   "outputs": [
    {
     "data": {
      "text/plain": [
       "'01-01-2000'"
      ]
     },
     "execution_count": 22,
     "metadata": {},
     "output_type": "execute_result"
    }
   ],
   "source": [
    "# dict[key]\n",
    "\n",
    "d1['DOB']"
   ]
  },
  {
   "cell_type": "code",
   "execution_count": 23,
   "metadata": {},
   "outputs": [
    {
     "data": {
      "text/plain": [
       "{'id': 5,\n",
       " 'name': 'Qasim',\n",
       " 'course': 'A.I',\n",
       " 'admission date': '2019-12-15',\n",
       " 'DOB': '02-02-2000'}"
      ]
     },
     "execution_count": 23,
     "metadata": {},
     "output_type": "execute_result"
    }
   ],
   "source": [
    "d1['DOB'] = '02-02-2000'\n",
    "d1"
   ]
  },
  {
   "cell_type": "code",
   "execution_count": 17,
   "metadata": {},
   "outputs": [
    {
     "data": {
      "text/plain": [
       "{'id': 1, 'name': 'Ali', 'course': 'A.I'}"
      ]
     },
     "execution_count": 17,
     "metadata": {},
     "output_type": "execute_result"
    }
   ],
   "source": [
    "d1 = {}\n",
    "\n",
    "d1['id']=1\n",
    "d1[\"name\"]=\"Ali\"\n",
    "d1[\"course\"]=\"A.I\"\n",
    "\n",
    "d1"
   ]
  },
  {
   "cell_type": "raw",
   "metadata": {},
   "source": [
    "# Task1\n",
    "# Store id, name and skill in dictionary with input function"
   ]
  },
  {
   "cell_type": "code",
   "execution_count": 12,
   "metadata": {},
   "outputs": [
    {
     "name": "stdout",
     "output_type": "stream",
     "text": [
      "Enter your ID1\n",
      "Enter Your NameABC\n",
      "Enter your skill with',' seprated valueA,B,C,E,F\n"
     ]
    }
   ],
   "source": [
    "information = {} # empty dictionary\n",
    "user_id = input(\"Enter your ID\")\n",
    "information['id'] = user_id\n",
    "\n",
    "name = input(\"Enter Your Name\")\n",
    "information['name'] = name\n",
    "\n",
    "\n",
    "skills = input(\"Enter your skill with',' seprated value\")\n",
    "information['skills']=skills.split()\n"
   ]
  },
  {
   "cell_type": "code",
   "execution_count": 15,
   "metadata": {},
   "outputs": [
    {
     "name": "stdout",
     "output_type": "stream",
     "text": [
      "Enter your ID1\n",
      "Enter Your NameABC\n",
      "Enter your skill with',' seprated valuea,b,c\n"
     ]
    },
    {
     "data": {
      "text/plain": [
       "{'id': '1', 'name': 'ABC', 'skills': ['Python', 'a', 'b', 'c']}"
      ]
     },
     "execution_count": 15,
     "metadata": {},
     "output_type": "execute_result"
    }
   ],
   "source": [
    "\n",
    "information = {} # empty dictionary\n",
    "user_id = input(\"Enter your ID\")\n",
    "information['id'] = user_id\n",
    "\n",
    "name = input(\"Enter Your Name\")\n",
    "information['name'] = name\n",
    "\n",
    "information['skills']=[\"Python\"]\n",
    "\n",
    "\n",
    "skills = input(\"Enter your skill with',' seprated value\")\n",
    "information['skills']=information['skills']+skills.split(',')\n",
    "information"
   ]
  },
  {
   "cell_type": "code",
   "execution_count": 24,
   "metadata": {},
   "outputs": [
    {
     "data": {
      "text/plain": [
       "{'id': 5,\n",
       " 'name': 'Qasim',\n",
       " 'course': 'A.I',\n",
       " 'admission date': '2019-12-15',\n",
       " 'DOB': '01-01-2000'}"
      ]
     },
     "execution_count": 24,
     "metadata": {},
     "output_type": "execute_result"
    }
   ],
   "source": [
    "# dict[item1, item2, item3]\n",
    "#item = key:value\n",
    "\n",
    "d1 = {'id': 2,\n",
    "     'name':\"Qasim\",\n",
    "     'course':'A.I',\n",
    "      'id':5,\n",
    "     'admission date': '2019-12-15',\n",
    "     'DOB': '01-01-2000'}\n",
    "\n",
    "d1"
   ]
  },
  {
   "cell_type": "code",
   "execution_count": 25,
   "metadata": {},
   "outputs": [
    {
     "data": {
      "text/plain": [
       "{}"
      ]
     },
     "execution_count": 25,
     "metadata": {},
     "output_type": "execute_result"
    }
   ],
   "source": [
    "d1.clear()\n",
    "d1"
   ]
  },
  {
   "cell_type": "code",
   "execution_count": 26,
   "metadata": {},
   "outputs": [
    {
     "name": "stdout",
     "output_type": "stream",
     "text": [
      "{'id': 5, 'name': 'Qasim', 'course': 'A.I', 'admission date': '2019-12-15', 'DOB': '01-01-2000'}\n"
     ]
    },
    {
     "ename": "NameError",
     "evalue": "name 'd1' is not defined",
     "output_type": "error",
     "traceback": [
      "\u001b[0;31m---------------------------------------------------------------------------\u001b[0m",
      "\u001b[0;31mNameError\u001b[0m                                 Traceback (most recent call last)",
      "\u001b[0;32m<ipython-input-26-c58e07ac6463>\u001b[0m in \u001b[0;36m<module>\u001b[0;34m\u001b[0m\n\u001b[1;32m     11\u001b[0m \u001b[0mprint\u001b[0m\u001b[0;34m(\u001b[0m\u001b[0md1\u001b[0m\u001b[0;34m)\u001b[0m\u001b[0;34m\u001b[0m\u001b[0;34m\u001b[0m\u001b[0m\n\u001b[1;32m     12\u001b[0m \u001b[0;32mdel\u001b[0m \u001b[0md1\u001b[0m\u001b[0;34m\u001b[0m\u001b[0;34m\u001b[0m\u001b[0m\n\u001b[0;32m---> 13\u001b[0;31m \u001b[0mprint\u001b[0m\u001b[0;34m(\u001b[0m\u001b[0md1\u001b[0m\u001b[0;34m)\u001b[0m\u001b[0;34m\u001b[0m\u001b[0;34m\u001b[0m\u001b[0m\n\u001b[0m",
      "\u001b[0;31mNameError\u001b[0m: name 'd1' is not defined"
     ]
    }
   ],
   "source": [
    "# dict[item1, item2, item3]\n",
    "#item = key:value\n",
    "\n",
    "d1 = {'id': 2,\n",
    "     'name':\"Qasim\",\n",
    "     'course':'A.I',\n",
    "      'id':5,\n",
    "     'admission date': '2019-12-15',\n",
    "     'DOB': '01-01-2000'}\n",
    "\n",
    "print(d1)\n",
    "del d1\n",
    "print(d1)\n"
   ]
  },
  {
   "cell_type": "code",
   "execution_count": 29,
   "metadata": {},
   "outputs": [
    {
     "name": "stdout",
     "output_type": "stream",
     "text": [
      "{'id': 5, 'name': 'Qasim', 'course': 'A.I', 'admission date': '2019-12-15', 'DOB': '01-01-2000'}\n"
     ]
    }
   ],
   "source": [
    "# dict[item1, item2, item3]\n",
    "#item = key:value\n",
    "\n",
    "d1 = {'id': 2,\n",
    "     'name':\"Qasim\",\n",
    "     'course':'A.I',\n",
    "      'id':5,\n",
    "     'admission date': '2019-12-15',\n",
    "     'DOB': '01-01-2000'}\n",
    "\n",
    "print(d1)\n",
    "?dict.copy"
   ]
  },
  {
   "cell_type": "code",
   "execution_count": 31,
   "metadata": {},
   "outputs": [
    {
     "name": "stdout",
     "output_type": "stream",
     "text": [
      "{'id': 5, 'name': 'Qasim', 'course': 'A.I', 'admission date': '2019-12-15', 'DOB': '01-01-2000'}\n",
      "{'id': 10, 'name': 'Qasim', 'course': 'A.I', 'admission date': '2019-12-15', 'DOB': '01-01-2000'}\n"
     ]
    }
   ],
   "source": [
    "d2 = d1.copy()\n",
    "d2[\"id\"] = 10\n",
    "print(d1)\n",
    "print(d2)"
   ]
  },
  {
   "cell_type": "code",
   "execution_count": 32,
   "metadata": {},
   "outputs": [
    {
     "data": {
      "text/plain": [
       "{'id': None, 'name': None, 'course': None}"
      ]
     },
     "execution_count": 32,
     "metadata": {},
     "output_type": "execute_result"
    }
   ],
   "source": [
    "#item = key:value\n",
    "\n",
    "d1 = {}\n",
    "d1['id']=None\n",
    "d1['name']=None\n",
    "d1['course']=None\n",
    "d1"
   ]
  },
  {
   "cell_type": "code",
   "execution_count": 34,
   "metadata": {},
   "outputs": [
    {
     "name": "stdout",
     "output_type": "stream",
     "text": [
      "['id', 'name', 'course', 'timing', 'address', 'DOB']\n",
      "{'id': None, 'name': None, 'course': None, 'timing': None, 'address': None, 'DOB': None}\n"
     ]
    }
   ],
   "source": [
    "l1 = ['id','name','course','timing','address', 'DOB']\n",
    "print(l1)\n",
    "\n",
    "d1 = dict.fromkeys(l1)\n",
    "print(d1)"
   ]
  },
  {
   "cell_type": "code",
   "execution_count": 40,
   "metadata": {},
   "outputs": [
    {
     "name": "stdout",
     "output_type": "stream",
     "text": [
      "Entery comma seprated valuea,b,c,d,e,f,g,h\n",
      "['a', 'b', 'c', 'd', 'e', 'f', 'g', 'h']\n",
      "{'a': 'NAN', 'b': 'NAN', 'c': 'NAN', 'd': 'NAN', 'e': 'NAN', 'f': 'NAN', 'g': 'NAN', 'h': 'NAN'}\n"
     ]
    }
   ],
   "source": [
    "l1 = input(\"Entery comma seprated value\")\n",
    "l1 = l1.split(\",\")\n",
    "print(l1)\n",
    "\n",
    "d1 = dict.fromkeys(l1,\"NAN\")\n",
    "print(d1)"
   ]
  },
  {
   "cell_type": "code",
   "execution_count": 46,
   "metadata": {},
   "outputs": [
    {
     "name": "stdout",
     "output_type": "stream",
     "text": [
      "[('a', 'x'), ('b', 'y'), ('c', 'z')]\n",
      "{'a': 'x', 'b': 'y', 'c': 'z'}\n"
     ]
    }
   ],
   "source": [
    "l1 = ['a','b','c']\n",
    "l2 = ['x','y','z']\n",
    "#d1 = {a:x, b:y, c:z}\n",
    "l3 = list(zip(l1,l2))\n",
    "print(l3)\n",
    "d1 = dict(l3)\n",
    "print(d1)\n",
    "#dict([('a',\"x\"), ('b','y'), ('c','z')])"
   ]
  },
  {
   "cell_type": "code",
   "execution_count": 47,
   "metadata": {},
   "outputs": [
    {
     "name": "stdout",
     "output_type": "stream",
     "text": [
      "keysa,b,c\n",
      "valuesx,y,z\n",
      "[('a', 'x'), ('b', 'y'), ('c', 'z')]\n",
      "{'a': 'x', 'b': 'y', 'c': 'z'}\n"
     ]
    }
   ],
   "source": [
    "# l1 = input(\"keys\")\n",
    "# l1 = l1.split(\",\")\n",
    "\n",
    "\n",
    "l1 = input(\"keys\").split(\",\")\n",
    "l2 = input(\"values\").split(\",\")\n",
    "\n",
    "#d1 = {a:x, b:y, c:z}\n",
    "l3 = list(zip(l1,l2))\n",
    "print(l3)\n",
    "d1 = dict(l3)\n",
    "print(d1)\n",
    "#dict([('a',\"x\"), ('b','y'), ('c','z')])"
   ]
  },
  {
   "cell_type": "code",
   "execution_count": 50,
   "metadata": {},
   "outputs": [
    {
     "ename": "KeyError",
     "evalue": "'z'",
     "output_type": "error",
     "traceback": [
      "\u001b[0;31m---------------------------------------------------------------------------\u001b[0m",
      "\u001b[0;31mKeyError\u001b[0m                                  Traceback (most recent call last)",
      "\u001b[0;32m<ipython-input-50-73079e6a4363>\u001b[0m in \u001b[0;36m<module>\u001b[0;34m\u001b[0m\n\u001b[1;32m      1\u001b[0m \u001b[0md1\u001b[0m\u001b[0;34m[\u001b[0m\u001b[0;34m'a'\u001b[0m\u001b[0;34m]\u001b[0m\u001b[0;34m\u001b[0m\u001b[0;34m\u001b[0m\u001b[0m\n\u001b[1;32m      2\u001b[0m \u001b[0md1\u001b[0m\u001b[0;34m[\u001b[0m\u001b[0;34m'c'\u001b[0m\u001b[0;34m]\u001b[0m\u001b[0;34m\u001b[0m\u001b[0;34m\u001b[0m\u001b[0m\n\u001b[0;32m----> 3\u001b[0;31m \u001b[0md1\u001b[0m\u001b[0;34m[\u001b[0m\u001b[0;34m'z'\u001b[0m\u001b[0;34m]\u001b[0m\u001b[0;34m\u001b[0m\u001b[0;34m\u001b[0m\u001b[0m\n\u001b[0m",
      "\u001b[0;31mKeyError\u001b[0m: 'z'"
     ]
    }
   ],
   "source": [
    "d1['a']\n",
    "d1['c']\n",
    "d1['z']"
   ]
  },
  {
   "cell_type": "code",
   "execution_count": 56,
   "metadata": {},
   "outputs": [
    {
     "name": "stdout",
     "output_type": "stream",
     "text": [
      "{'a': 'x', 'b': 'y', 'c': 'z'}\n",
      "None\n",
      "Value is not available\n",
      "{'a': 'x', 'b': 'y', 'c': 'z'}\n"
     ]
    }
   ],
   "source": [
    "print(d1)\n",
    "print(d1.get('h')) # if key available then extract it. error will not generate\n",
    "print(d1.get('i',\"Value is not available\"))\n",
    "print(d1)"
   ]
  },
  {
   "cell_type": "code",
   "execution_count": 57,
   "metadata": {},
   "outputs": [
    {
     "name": "stdout",
     "output_type": "stream",
     "text": [
      "{'a': 'x', 'b': 'y', 'c': 'z'}\n"
     ]
    },
    {
     "data": {
      "text/plain": [
       "dict_items([('a', 'x'), ('b', 'y'), ('c', 'z')])"
      ]
     },
     "execution_count": 57,
     "metadata": {},
     "output_type": "execute_result"
    }
   ],
   "source": [
    "print(d1)\n",
    "d1.items()"
   ]
  },
  {
   "cell_type": "code",
   "execution_count": 59,
   "metadata": {},
   "outputs": [
    {
     "name": "stdout",
     "output_type": "stream",
     "text": [
      "{'a': 'x', 'b': 'y', 'c': 'z'}\n"
     ]
    },
    {
     "data": {
      "text/plain": [
       "dict_keys(['a', 'b', 'c'])"
      ]
     },
     "execution_count": 59,
     "metadata": {},
     "output_type": "execute_result"
    }
   ],
   "source": [
    "print(d1)\n",
    "d1.keys()"
   ]
  },
  {
   "cell_type": "code",
   "execution_count": 60,
   "metadata": {},
   "outputs": [
    {
     "name": "stdout",
     "output_type": "stream",
     "text": [
      "{'a': 'x', 'b': 'y', 'c': 'z'}\n"
     ]
    },
    {
     "data": {
      "text/plain": [
       "dict_values(['x', 'y', 'z'])"
      ]
     },
     "execution_count": 60,
     "metadata": {},
     "output_type": "execute_result"
    }
   ],
   "source": [
    "print(d1)\n",
    "d1.values()"
   ]
  },
  {
   "cell_type": "code",
   "execution_count": 61,
   "metadata": {},
   "outputs": [
    {
     "name": "stdout",
     "output_type": "stream",
     "text": [
      "{'a': 'x', 'b': 'y', 'c': 'z'}\n"
     ]
    },
    {
     "data": {
      "text/plain": [
       "'x'"
      ]
     },
     "execution_count": 61,
     "metadata": {},
     "output_type": "execute_result"
    }
   ],
   "source": [
    "print(d1)\n",
    "d1.pop('a') #value"
   ]
  },
  {
   "cell_type": "code",
   "execution_count": 64,
   "metadata": {},
   "outputs": [
    {
     "name": "stdout",
     "output_type": "stream",
     "text": [
      "('c', 'z')\n",
      "{'a': 'x', 'b': 'y'}\n"
     ]
    }
   ],
   "source": [
    "d1 = {'a': 'x', 'b': 'y', 'c': 'z'}\n",
    "print(d1.popitem())\n",
    "print(d1)\n"
   ]
  },
  {
   "cell_type": "code",
   "execution_count": 71,
   "metadata": {},
   "outputs": [
    {
     "name": "stdout",
     "output_type": "stream",
     "text": [
      "{'a': 'x', 'b': 'y', 'abc': None, 'abc1': 'xyz'}\n",
      "xyz\n",
      "{'a': 'x', 'b': 'y', 'abc': 'pakistan', 'abc1': 'xyz'}\n"
     ]
    }
   ],
   "source": [
    "print(d1)\n",
    "print(d1.setdefault('abc1','xyz'))\n",
    "d1['abc']='pakistan'\n",
    "print(d1)"
   ]
  },
  {
   "cell_type": "code",
   "execution_count": 72,
   "metadata": {},
   "outputs": [
    {
     "name": "stdout",
     "output_type": "stream",
     "text": [
      "{'a': 'x', 'b': 'y', 'c': 'z'}\n"
     ]
    }
   ],
   "source": [
    "d1 = {'a': 'x', 'b': 'y', 'c': 'z'}\n",
    "print(d1)"
   ]
  },
  {
   "cell_type": "code",
   "execution_count": 73,
   "metadata": {},
   "outputs": [
    {
     "data": {
      "text/plain": [
       "{'a': 'AAAA', 'b': 'BB', 'c': 'CCCC'}"
      ]
     },
     "execution_count": 73,
     "metadata": {},
     "output_type": "execute_result"
    }
   ],
   "source": [
    "d1 = {'a':'AA','b':'BB'}\n",
    "\n",
    "d2 = {'a':\"AAAA\", 'c':'CCCC'}\n",
    "\n",
    "d1.update(d2)\n",
    "d1"
   ]
  },
  {
   "cell_type": "code",
   "execution_count": 74,
   "metadata": {},
   "outputs": [
    {
     "data": {
      "text/plain": [
       "{'a': 'AA', 'b': 'BB'}"
      ]
     },
     "execution_count": 74,
     "metadata": {},
     "output_type": "execute_result"
    }
   ],
   "source": [
    "d1 = {'a':'AA','b':'BB'}\n",
    "d1"
   ]
  },
  {
   "cell_type": "code",
   "execution_count": 94,
   "metadata": {},
   "outputs": [],
   "source": [
    "d1 = {'a':1, 'b':2, 'c':3, 'd':5,'e':4,'f':6}\n",
    "\n",
    "\n"
   ]
  },
  {
   "cell_type": "code",
   "execution_count": 84,
   "metadata": {},
   "outputs": [
    {
     "name": "stdout",
     "output_type": "stream",
     "text": [
      "[6, 5, 4, 3, 2, 1]\n"
     ]
    }
   ],
   "source": [
    "d1 = {'a':1, 'b':2, 'c':3, 'd':5,'e':4,'f':6}\n",
    "d2 = d1.values()\n",
    "print(sorted(d2, reverse=True))"
   ]
  },
  {
   "cell_type": "code",
   "execution_count": 93,
   "metadata": {},
   "outputs": [
    {
     "data": {
      "text/plain": [
       "[('a', 1), ('b', 2), ('c', 3), ('d', 4)]"
      ]
     },
     "execution_count": 93,
     "metadata": {},
     "output_type": "execute_result"
    }
   ],
   "source": [
    "d1.clear()\n",
    "k=['d', 'b','c','a']\n",
    "v=[4,2,3,1]\n",
    "l1=zip(k,v)\n",
    "l1=list(l1)\n",
    "d1\n",
    "#for i in range(0,len(l1)):\n",
    "    #d1[k[i]]=v[i]\n",
    "#d1"
   ]
  },
  {
   "cell_type": "code",
   "execution_count": 100,
   "metadata": {},
   "outputs": [
    {
     "data": {
      "text/plain": [
       "{'c': 3, 'b': 5, 'a': 1}"
      ]
     },
     "execution_count": 100,
     "metadata": {},
     "output_type": "execute_result"
    }
   ],
   "source": [
    "d1 = {'a':1, 'b': 5 , 'c':3 }\n",
    "list1 = list(d1.keys())\n",
    "slist = sorted(list1, reverse = True)\n",
    "nDict = {}\n",
    "for i in slist:\n",
    "    nDict[i] = d1[i]\n",
    "nDict"
   ]
  },
  {
   "cell_type": "code",
   "execution_count": 101,
   "metadata": {},
   "outputs": [],
   "source": [
    "d1 = {'a':1, 'b': 5 , 'c':3 }"
   ]
  },
  {
   "cell_type": "code",
   "execution_count": 102,
   "metadata": {},
   "outputs": [
    {
     "data": {
      "text/plain": [
       "{'a': 1, 'c': 3, 'b': 5}"
      ]
     },
     "execution_count": 102,
     "metadata": {},
     "output_type": "execute_result"
    }
   ],
   "source": [
    "{k:v for k,v in sorted(d1.items(), key= lambda item: item[1])}"
   ]
  },
  {
   "cell_type": "code",
   "execution_count": 109,
   "metadata": {},
   "outputs": [
    {
     "name": "stdout",
     "output_type": "stream",
     "text": [
      "a 1\n",
      "b 5\n",
      "c 3\n"
     ]
    }
   ],
   "source": []
  },
  {
   "cell_type": "code",
   "execution_count": 110,
   "metadata": {},
   "outputs": [],
   "source": [
    "def get_first_item(item):\n",
    "    return item[1]"
   ]
  },
  {
   "cell_type": "code",
   "execution_count": 111,
   "metadata": {},
   "outputs": [
    {
     "data": {
      "text/plain": [
       "1"
      ]
     },
     "execution_count": 111,
     "metadata": {},
     "output_type": "execute_result"
    }
   ],
   "source": [
    "get_first_item((0,1))"
   ]
  },
  {
   "cell_type": "code",
   "execution_count": 131,
   "metadata": {},
   "outputs": [
    {
     "name": "stdout",
     "output_type": "stream",
     "text": [
      "{'b': 5, 'c': 3, 'a': 1}\n"
     ]
    }
   ],
   "source": [
    "d1 = {'a':1, 'b': 5 , 'c':3 }\n",
    "d2 = {}\n",
    "for k, v in (sorted(d1.items(), key=lambda x:x[1], reverse=True)):\n",
    "    d2[k]=v\n",
    "print(d2)    "
   ]
  },
  {
   "cell_type": "code",
   "execution_count": 133,
   "metadata": {},
   "outputs": [
    {
     "data": {
      "text/plain": [
       "{'b': 5, 'c': 3, 'a': 1}"
      ]
     },
     "execution_count": 133,
     "metadata": {},
     "output_type": "execute_result"
    }
   ],
   "source": [
    "d1 = {'a':1, 'b': 5 , 'c':3 }\n",
    "dict(sorted(d1.items(), key=lambda x:x[1], reverse=True))"
   ]
  },
  {
   "cell_type": "code",
   "execution_count": 113,
   "metadata": {},
   "outputs": [
    {
     "data": {
      "text/plain": [
       "[('a', 1), ('b', 5), ('c', 3)]"
      ]
     },
     "execution_count": 113,
     "metadata": {},
     "output_type": "execute_result"
    }
   ],
   "source": [
    "list(d1.items())"
   ]
  },
  {
   "cell_type": "code",
   "execution_count": 114,
   "metadata": {},
   "outputs": [],
   "source": [
    "l1 =[('A',0,'z'),\n",
    "('C',1,'y'),\n",
    "(('B',3,'x'))]"
   ]
  },
  {
   "cell_type": "code",
   "execution_count": 125,
   "metadata": {},
   "outputs": [
    {
     "data": {
      "text/plain": [
       "[('B', 3, 'x'), ('C', 1, 'y'), ('A', 0, 'z')]"
      ]
     },
     "execution_count": 125,
     "metadata": {},
     "output_type": "execute_result"
    }
   ],
   "source": [
    "def abc(x):\n",
    "    return x[2]\n",
    "\n",
    "sorted(l1 , key=abc)"
   ]
  },
  {
   "cell_type": "code",
   "execution_count": null,
   "metadata": {},
   "outputs": [],
   "source": [
    "[{'id':none, 'name':none, skills=[a,bc]},\n",
    " {'id':none, 'name':none, skills=[a,bc]},\n",
    " {'id':none, 'name':none, skills=[a,bc]},\n",
    " {'id':none, 'name':none, skills=[a,bc]},\n",
    "] \n",
    "x->exit\n",
    "\n",
    "print(list)"
   ]
  },
  {
   "cell_type": "code",
   "execution_count": 135,
   "metadata": {},
   "outputs": [
    {
     "name": "stdout",
     "output_type": "stream",
     "text": [
      "please enter your id: 1\n",
      "please enter your name: aamir\n",
      "enter your skillspython c# c++\n",
      "please enger xto exit: y\n",
      "please enter your id: 2\n",
      "please enter your name: abdullah\n",
      "enter your skillspython\n",
      "please enger xto exit: x\n"
     ]
    },
    {
     "data": {
      "text/plain": [
       "[{'id': '1', 'name': 'aamir', 'skills': ['python', 'c#', 'c++']},\n",
       " {'id': '2', 'name': 'abdullah', 'skills': ['python']}]"
      ]
     },
     "execution_count": 135,
     "metadata": {},
     "output_type": "execute_result"
    }
   ],
   "source": [
    "lst=[] # simple list to store all student data -> list of dicts\n",
    "x='' # initialize the exit command with empty string\n",
    "while x != 'x': \n",
    "    dict1={} # dict to store student info\n",
    "    # create an entry for every value you'd want to store\n",
    "    # in the student dict\n",
    "    dict1['id']=input('please enter your id: ') # id  \n",
    "    dict1['name']=input('please enter your name: ') # name \n",
    "    skills=input('enter your skills') # comma separated skills\n",
    "    dict1['skills']=skills.split()\n",
    "    lst.append(dict1) # append to \"lst\"\n",
    "    x=input('please enter x to exit: ') # if x \n",
    "lst"
   ]
  },
  {
   "cell_type": "code",
   "execution_count": null,
   "metadata": {},
   "outputs": [],
   "source": []
  },
  {
   "cell_type": "code",
   "execution_count": null,
   "metadata": {},
   "outputs": [],
   "source": []
  }
 ],
 "metadata": {
  "kernelspec": {
   "display_name": "Python 3",
   "language": "python",
   "name": "python3"
  },
  "language_info": {
   "codemirror_mode": {
    "name": "ipython",
    "version": 3
   },
   "file_extension": ".py",
   "mimetype": "text/x-python",
   "name": "python",
   "nbconvert_exporter": "python",
   "pygments_lexer": "ipython3",
   "version": "3.7.1"
  }
 },
 "nbformat": 4,
 "nbformat_minor": 2
}
