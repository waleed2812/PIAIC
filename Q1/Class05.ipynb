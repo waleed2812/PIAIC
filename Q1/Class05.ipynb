{
 "cells": [
  {
   "cell_type": "markdown",
   "metadata": {},
   "source": [
    "# Dictionaries"
   ]
  },
  {
   "cell_type": "code",
   "execution_count": 3,
   "metadata": {},
   "outputs": [
    {
     "name": "stdout",
     "output_type": "stream",
     "text": [
      "{'id': 2, 'name': 'waleed', 'course': 'A.I', 'admission date': '2019-12-15', 'DOB': '1998-10-01'}\n"
     ]
    }
   ],
   "source": [
    "d1 = {'id':2,\n",
    "     'name':\"waleed\",\n",
    "     'course': 'A.I',\n",
    "     'admission date':'2019-12-15',\n",
    "      'DOB':'1998-10-01'\n",
    "      }\n",
    "print(d1)"
   ]
  },
  {
   "cell_type": "code",
   "execution_count": 4,
   "metadata": {},
   "outputs": [
    {
     "name": "stdout",
     "output_type": "stream",
     "text": [
      "{'id': 2, 'name': 'waleed', 'course': 'A.I', 'admission date': '2019-12-15', 'DOB': '1998-10-01'}\n"
     ]
    }
   ],
   "source": [
    "d2 = {}\n",
    "d2['id']=2\n",
    "d2['name']=\"waleed\"\n",
    "d2['course']='A.I'\n",
    "d2['admission date']='2019-12-15'\n",
    "d2['DOB']='1998-10-01'\n",
    "print(d1)"
   ]
  },
  {
   "cell_type": "code",
   "execution_count": 7,
   "metadata": {},
   "outputs": [
    {
     "name": "stdout",
     "output_type": "stream",
     "text": [
      "Enter Your id: 12312\n",
      "Enter Your Name: waleed\n",
      "Enter Your Skills with ',': 1231231,java,c++\n",
      "dict_keys(['id', 'name', 'Skills'])\n"
     ]
    }
   ],
   "source": [
    "d3 = {}\n",
    "d3[\"id\"] = input(\"Enter Your id: \")\n",
    "d3[\"name\"] = input(\"Enter Your Name: \")\n",
    "l1 =input(\"Enter Your Skills with ',': \")\n",
    "d3[\"Skills\"] = l1\n",
    "print(d3.keys())"
   ]
  },
  {
   "cell_type": "code",
   "execution_count": 8,
   "metadata": {},
   "outputs": [
    {
     "name": "stdout",
     "output_type": "stream",
     "text": [
      "dict_values(['12312', 'waleed', '1231231,java,c++'])\n"
     ]
    }
   ],
   "source": [
    "print(d3.values())"
   ]
  },
  {
   "cell_type": "code",
   "execution_count": 9,
   "metadata": {},
   "outputs": [
    {
     "name": "stdout",
     "output_type": "stream",
     "text": [
      "dict_values(['12312', 'waleed', '1231231,java,c++'])\n"
     ]
    }
   ],
   "source": [
    "l1 = (d3.values())\n",
    "print(l1)"
   ]
  },
  {
   "cell_type": "code",
   "execution_count": 11,
   "metadata": {},
   "outputs": [
    {
     "name": "stdout",
     "output_type": "stream",
     "text": [
      ",\n"
     ]
    }
   ],
   "source": [
    "print(d3[\"Skills\"][12])"
   ]
  },
  {
   "cell_type": "code",
   "execution_count": 19,
   "metadata": {},
   "outputs": [
    {
     "name": "stdout",
     "output_type": "stream",
     "text": [
      "Enter Your id: 123123\n",
      "Enter Your Name: waleed\n",
      "Enter Your Skills with ',': java,c++,c,kotlin,assembly\n",
      "{'id': '123123', 'name': 'waleed', 'Skills': ['Python', 'java', 'c++', 'c', 'kotlin', 'assembly']}\n"
     ]
    }
   ],
   "source": [
    "d4 = {}\n",
    "d4[\"id\"] = input(\"Enter Your id: \")\n",
    "d4[\"name\"] = input(\"Enter Your Name: \")\n",
    "d4[\"Skills\"] = [\"Python\"] + (input(\"Enter Your Skills with ',': \").split(','))\n",
    "print(d4)"
   ]
  },
  {
   "cell_type": "code",
   "execution_count": 27,
   "metadata": {},
   "outputs": [
    {
     "data": {
      "text/plain": [
       "'P'"
      ]
     },
     "execution_count": 27,
     "metadata": {},
     "output_type": "execute_result"
    }
   ],
   "source": [
    "d4[\"Skills\"][0][0]"
   ]
  },
  {
   "cell_type": "code",
   "execution_count": 29,
   "metadata": {},
   "outputs": [
    {
     "name": "stdout",
     "output_type": "stream",
     "text": [
      "{'id': 'xyz', 'name': 'waleed', 'Skills': ['Python', 'java', 'c++', 'c', 'kotlin', 'assembly']}\n",
      "{'id': 'xyz', 'name': 'waleed', 'Skills': ['Python', 'java', 'c++', 'c', 'kotlin', 'assembly']}\n"
     ]
    }
   ],
   "source": [
    "d5 = d4\n",
    "d5[\"id\"] = \"xyz\"\n",
    "print(d4)\n",
    "print(d5)"
   ]
  },
  {
   "cell_type": "code",
   "execution_count": 31,
   "metadata": {},
   "outputs": [
    {
     "name": "stdout",
     "output_type": "stream",
     "text": [
      "{'id': 'xyz', 'name': 'waleed', 'Skills': ['Python', 'java', 'c++', 'c', 'kotlin', 'assembly']}\n",
      "{'id': 'abc', 'name': 'waleed', 'Skills': ['Python', 'java', 'c++', 'c', 'kotlin', 'assembly']}\n"
     ]
    }
   ],
   "source": [
    "d5 = d4.copy()\n",
    "d5[\"id\"] = \"abc\"\n",
    "print(d4)\n",
    "print(d5)"
   ]
  },
  {
   "cell_type": "code",
   "execution_count": 35,
   "metadata": {},
   "outputs": [
    {
     "name": "stdout",
     "output_type": "stream",
     "text": [
      "{'Waleed': None, 'Butt': None, 'amer': None, 'Goes': None, 'murree': None}\n"
     ]
    }
   ],
   "source": [
    "l1 = [\"Waleed\",\"Butt\",\"amer\",\"Butt\",\"Goes\",\"murree\"]\n",
    "d6 = dict.fromkeys(l1)\n",
    "print(d6)"
   ]
  },
  {
   "cell_type": "code",
   "execution_count": 2,
   "metadata": {},
   "outputs": [
    {
     "name": "stdout",
     "output_type": "stream",
     "text": [
      "Enter Values: waleed, qasim, ali, shehzad roy\n",
      "{'waleed': 'NAN', ' qasim': 'NAN', ' ali': 'NAN', ' shehzad roy': 'NAN'}\n"
     ]
    }
   ],
   "source": [
    "d7 = dict.fromkeys( (input(\"Enter Values: \").split(',')),\"NAN\" )\n",
    "print(d7)"
   ]
  },
  {
   "cell_type": "code",
   "execution_count": 8,
   "metadata": {},
   "outputs": [
    {
     "name": "stdout",
     "output_type": "stream",
     "text": [
      "Enter Values: waleed,tauheed,qasim,waleedagain,talal\n",
      "Enter Values: 1,2,4,3,4,5,6,2\n",
      "{'waleed': ['1', '2', '4', '3', '4', '5', '6', '2'], 'tauheed': ['1', '2', '4', '3', '4', '5', '6', '2'], 'qasim': ['1', '2', '4', '3', '4', '5', '6', '2'], 'waleedagain': ['1', '2', '4', '3', '4', '5', '6', '2'], 'talal': ['1', '2', '4', '3', '4', '5', '6', '2']}\n"
     ]
    }
   ],
   "source": [
    "print( dict.fromkeys( (input(\"Enter Values: \").split(',')), (input(\"Enter Values: \").split(',')) )  )"
   ]
  },
  {
   "cell_type": "code",
   "execution_count": 14,
   "metadata": {},
   "outputs": [
    {
     "name": "stdout",
     "output_type": "stream",
     "text": [
      "{'a': 'x', 'b': 'y', 'c': 'z'}\n"
     ]
    }
   ],
   "source": [
    "l1 = ['a','b','c']\n",
    "l2 = ['x','y','z']\n",
    "d8 = dict(zip(l1,l2))\n",
    "print(d8)"
   ]
  },
  {
   "cell_type": "code",
   "execution_count": 16,
   "metadata": {},
   "outputs": [
    {
     "name": "stdout",
     "output_type": "stream",
     "text": [
      "Enter Keys: afasd,fs,df,sd,f,sad,f,asd,f,s,df\n",
      "Enter Values: a,f,sdf,s,df,s,df,sad,f,sd,f\n",
      "{'afasd': 'a', 'fs': 'f', 'df': 'f', 'sd': 's', 'f': 'f', 'sad': 's', 'asd': 'sad', 's': 'sd'}\n"
     ]
    }
   ],
   "source": [
    "print( dict(zip( (input(\"Enter Keys: \").split(',')), (input(\"Enter Values: \").split(',')) ))  )"
   ]
  },
  {
   "cell_type": "code",
   "execution_count": 19,
   "metadata": {},
   "outputs": [
    {
     "name": "stdout",
     "output_type": "stream",
     "text": [
      "No Value\n"
     ]
    }
   ],
   "source": [
    "def func1(a,b):\n",
    "    try:\n",
    "        print(a[b])\n",
    "    except:\n",
    "        print(\"No Key\")\n",
    "d9 = {\"Python\":\"Beginner\"}\n",
    "func1(d9,\"Java\")"
   ]
  },
  {
   "cell_type": "code",
   "execution_count": 22,
   "metadata": {},
   "outputs": [
    {
     "name": "stdout",
     "output_type": "stream",
     "text": [
      "{'a': 1, 'c': 7, 'f': 9, 'g': 10, 'h': 11, 'q': 13}\n"
     ]
    }
   ],
   "source": [
    "d10 = {'a':1,'c':9,'f':11,'g':10,'h':13,'q':7}\n",
    "l1 = list(d10.keys())\n",
    "l2 = list(d10.values())\n",
    "l1.sort()\n",
    "l2.sort()\n",
    "d10 = dict(zip(l1,l2))\n",
    "print(d10)"
   ]
  },
  {
   "cell_type": "code",
   "execution_count": 24,
   "metadata": {},
   "outputs": [
    {
     "name": "stdout",
     "output_type": "stream",
     "text": [
      "{'Python': 'Beginner', 'Java': 'NEW'}\n"
     ]
    }
   ],
   "source": [
    "def func2(a,b):\n",
    "    a[b]=\"NEW\"\n",
    "    \n",
    "d11 = {\"Python\":\"Beginner\"}\n",
    "func2(d11,\"Java\")\n",
    "print(d11)"
   ]
  },
  {
   "cell_type": "code",
   "execution_count": 4,
   "metadata": {},
   "outputs": [
    {
     "name": "stdout",
     "output_type": "stream",
     "text": [
      "{'a': 1, 'q': 7, 'c': 9, 'g': 10, 'f': 11, 'h': 13}\n"
     ]
    }
   ],
   "source": [
    "d12 = {'a':1,'c':9,'f':11,'g':10,'h':13,'q':7}\n",
    "keys = list(d12.keys())\n",
    "key = 0\n",
    "values = list(d12.values())\n",
    "values.sort()\n",
    "d13 = {}\n",
    "for value in values:\n",
    "    for j in keys:\n",
    "        if d12[j] == value:\n",
    "            key = j\n",
    "    d13[key] = value\n",
    "\n",
    "print(d13)"
   ]
  },
  {
   "cell_type": "code",
   "execution_count": null,
   "metadata": {},
   "outputs": [],
   "source": []
  }
 ],
 "metadata": {
  "kernelspec": {
   "display_name": "Python 3",
   "language": "python",
   "name": "python3"
  },
  "language_info": {
   "codemirror_mode": {
    "name": "ipython",
    "version": 3
   },
   "file_extension": ".py",
   "mimetype": "text/x-python",
   "name": "python",
   "nbconvert_exporter": "python",
   "pygments_lexer": "ipython3",
   "version": "3.7.4"
  }
 },
 "nbformat": 4,
 "nbformat_minor": 2
}
