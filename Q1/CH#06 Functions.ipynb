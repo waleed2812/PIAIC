{
 "cells": [
  {
   "cell_type": "code",
   "execution_count": 68,
   "metadata": {},
   "outputs": [
    {
     "name": "stdout",
     "output_type": "stream",
     "text": [
      "573892679856843658\n"
     ]
    }
   ],
   "source": [
    "# Question 6.3\n",
    "def lengthOfInteger(number):\n",
    "    count=1\n",
    "    i=10\n",
    "    while ( (number - (number%i)) != 0):\n",
    "        count+=1\n",
    "        i*=10\n",
    "    return count\n",
    "def palindrome(number):\n",
    "    # Alternate Method\n",
    "    # return int(str(number)[-1:-(len(str(number))+1):-1])\n",
    "    list_1 = []\n",
    "    i=10\n",
    "    j=1\n",
    "    x=0\n",
    "    while number!=0:\n",
    "        mod=number%i\n",
    "        list_1.append((mod//j))\n",
    "        number-=mod\n",
    "        i*=10\n",
    "        j*=10\n",
    "    j=0\n",
    "    for i in range(len(list_1),0,-1):\n",
    "        x += list_1[j] * (10**(i-1))\n",
    "        j +=1\n",
    "    return x\n",
    "    \n",
    "print(palindrome(856348658976298375))"
   ]
  },
  {
   "cell_type": "code",
   "execution_count": null,
   "metadata": {},
   "outputs": [],
   "source": []
  }
 ],
 "metadata": {
  "kernelspec": {
   "display_name": "Python 3",
   "language": "python",
   "name": "python3"
  },
  "language_info": {
   "codemirror_mode": {
    "name": "ipython",
    "version": 3
   },
   "file_extension": ".py",
   "mimetype": "text/x-python",
   "name": "python",
   "nbconvert_exporter": "python",
   "pygments_lexer": "ipython3",
   "version": "3.7.4"
  }
 },
 "nbformat": 4,
 "nbformat_minor": 2
}
