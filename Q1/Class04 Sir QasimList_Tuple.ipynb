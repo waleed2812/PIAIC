{
 "cells": [
  {
   "cell_type": "markdown",
   "metadata": {},
   "source": [
    "# List Methods"
   ]
  },
  {
   "cell_type": "code",
   "execution_count": 5,
   "metadata": {},
   "outputs": [
    {
     "name": "stdout",
     "output_type": "stream",
     "text": [
      "['Qasim', 'Ali', 'Hamza', 7, 8, 9]\n"
     ]
    }
   ],
   "source": [
    "names = [\"Qasim\",\"Ali\",\"Hamza\",7, 8, 9]\n",
    "print(names)"
   ]
  },
  {
   "cell_type": "code",
   "execution_count": 6,
   "metadata": {},
   "outputs": [
    {
     "name": "stdout",
     "output_type": "stream",
     "text": [
      "Hamza\n"
     ]
    }
   ],
   "source": [
    "#          0       1      2    3  4  5\n",
    "names = [\"Qasim\",\"Ali\",\"Hamza\",7, 8, 9]\n",
    "#          -6     -5     -4    -3 -2 -1\n",
    "\n",
    "#slicing\n",
    "#list[start:end:step]\n",
    "print(names[2])"
   ]
  },
  {
   "cell_type": "code",
   "execution_count": 8,
   "metadata": {},
   "outputs": [
    {
     "data": {
      "text/plain": [
       "['A', 'B', 'c']"
      ]
     },
     "execution_count": 8,
     "metadata": {},
     "output_type": "execute_result"
    }
   ],
   "source": [
    "names = []\n",
    "\n",
    "names.append(\"A\")\n",
    "names.append(\"B\")\n",
    "names.append(\"c\")\n",
    "\n",
    "names\n",
    "             "
   ]
  },
  {
   "cell_type": "code",
   "execution_count": 9,
   "metadata": {},
   "outputs": [
    {
     "data": {
      "text/plain": [
       "[]"
      ]
     },
     "execution_count": 9,
     "metadata": {},
     "output_type": "execute_result"
    }
   ],
   "source": [
    "names = []\n",
    "\n",
    "names.append(\"A\")\n",
    "names.append(\"B\")\n",
    "names.append(\"c\")\n",
    "\n",
    "names.clear()\n",
    "names"
   ]
  },
  {
   "cell_type": "code",
   "execution_count": 12,
   "metadata": {},
   "outputs": [
    {
     "name": "stdout",
     "output_type": "stream",
     "text": [
      "['A', 'B', 'c']\n",
      "['A', 'B', 'c']\n",
      "['Z', 'B', 'c']\n",
      "['Z', 'B', 'c']\n"
     ]
    }
   ],
   "source": [
    "names = []\n",
    "\n",
    "names.append(\"A\")\n",
    "names.append(\"B\")\n",
    "names.append(\"c\")\n",
    "\n",
    "names1 = names\n",
    "print(names1)\n",
    "print(names)\n",
    "\n",
    "\n",
    "names1[0] = \"Z\"\n",
    "\n",
    "print(names1)\n",
    "print(names)\n",
    "\n"
   ]
  },
  {
   "cell_type": "code",
   "execution_count": 14,
   "metadata": {},
   "outputs": [
    {
     "name": "stdout",
     "output_type": "stream",
     "text": [
      "names1 ['A', 'B', 'c']\n",
      "names ['A', 'B', 'c']\n",
      "names1 ['Z', 'B', 'c']\n",
      "names ['A', 'B', 'c']\n"
     ]
    }
   ],
   "source": [
    "names = []\n",
    "\n",
    "names.append(\"A\")\n",
    "names.append(\"B\")\n",
    "names.append(\"c\")\n",
    "\n",
    "names1 = names.copy()\n",
    "print(\"names1\",names1)\n",
    "print(\"names\",names)\n",
    "\n",
    "\n",
    "names1[0] = \"Z\"\n",
    "\n",
    "print(\"names1\",names1)\n",
    "print(\"names\",names)"
   ]
  },
  {
   "cell_type": "code",
   "execution_count": 16,
   "metadata": {},
   "outputs": [
    {
     "data": {
      "text/plain": [
       "2"
      ]
     },
     "execution_count": 16,
     "metadata": {},
     "output_type": "execute_result"
    }
   ],
   "source": [
    "names = ['A','B',\"A\",\"C\",\"D\"]\n",
    "names.count(\"A\")"
   ]
  },
  {
   "cell_type": "code",
   "execution_count": 23,
   "metadata": {},
   "outputs": [
    {
     "name": "stdout",
     "output_type": "stream",
     "text": [
      "['A', 'B', 'C', 'X', 'Y', 'Z']\n",
      "['A', 'B', 'C']\n",
      "['X', 'Y', 'Z']\n"
     ]
    }
   ],
   "source": [
    "l1 = ['A','B',\"C\"]\n",
    "l2 = [\"X\",\"Y\",\"Z\"]\n",
    "l3 = l1 + l2\n",
    "print(l3)\n",
    "print(l1)\n",
    "print(l2)"
   ]
  },
  {
   "cell_type": "code",
   "execution_count": 24,
   "metadata": {},
   "outputs": [
    {
     "name": "stdout",
     "output_type": "stream",
     "text": [
      "None\n",
      "['A', 'B', 'C', 'X', 'Y', 'Z']\n",
      "['X', 'Y', 'Z']\n"
     ]
    }
   ],
   "source": [
    "l1 = ['A','B',\"C\"]\n",
    "l2 = [\"X\",\"Y\",\"Z\"]\n",
    "l3 =l1.extend(l2) # In Memory operation\n",
    "print(l3)\n",
    "print(l1)\n",
    "print(l2)"
   ]
  },
  {
   "cell_type": "code",
   "execution_count": 27,
   "metadata": {},
   "outputs": [
    {
     "name": "stdout",
     "output_type": "stream",
     "text": [
      "['A', 'B', 'C', 'X', 'Y', 'Z']\n"
     ]
    },
    {
     "data": {
      "text/plain": [
       "2"
      ]
     },
     "execution_count": 27,
     "metadata": {},
     "output_type": "execute_result"
    }
   ],
   "source": [
    "print(l1)\n",
    "['A', 'B', 'C', 'X', 'Y', 'Zl1.index(\"C\")"
   ]
  },
  {
   "cell_type": "code",
   "execution_count": 32,
   "metadata": {},
   "outputs": [
    {
     "name": "stdout",
     "output_type": "stream",
     "text": [
      "['A', 'B', 'C', 'A', 'X', 'Y', 'Z']\n",
      "0\n",
      "3\n"
     ]
    }
   ],
   "source": [
    "l1 = ['A', 'B', 'C','A', 'X', 'Y', 'Z']\n",
    "print(l1)\n",
    "print(l1.index(\"A\"))\n",
    "print(l1.index(\"A\", 1))"
   ]
  },
  {
   "cell_type": "code",
   "execution_count": 35,
   "metadata": {},
   "outputs": [
    {
     "name": "stdout",
     "output_type": "stream",
     "text": [
      "['C', 'D', 'B', 'A']\n"
     ]
    }
   ],
   "source": [
    "l1 = []\n",
    "l1.insert(0, \"A\")\n",
    "l1.insert(0, \"B\")\n",
    "l1.insert(0, \"C\")\n",
    "# Appedn A,B,C\n",
    "l1.insert(1,\"D\")\n",
    "print(l1)"
   ]
  },
  {
   "cell_type": "code",
   "execution_count": 37,
   "metadata": {},
   "outputs": [
    {
     "ename": "SyntaxError",
     "evalue": "invalid syntax (<ipython-input-37-8fac9bf30fb6>, line 2)",
     "output_type": "error",
     "traceback": [
      "\u001b[0;36m  File \u001b[0;32m\"<ipython-input-37-8fac9bf30fb6>\"\u001b[0;36m, line \u001b[0;32m2\u001b[0m\n\u001b[0;31m    a = del l1[0]\u001b[0m\n\u001b[0m          ^\u001b[0m\n\u001b[0;31mSyntaxError\u001b[0m\u001b[0;31m:\u001b[0m invalid syntax\n"
     ]
    }
   ],
   "source": [
    "l1 = ['A','B','C']\n",
    "a = del l1[0]\n",
    "print(l1)\n",
    "print(a)"
   ]
  },
  {
   "cell_type": "code",
   "execution_count": 39,
   "metadata": {},
   "outputs": [
    {
     "name": "stdout",
     "output_type": "stream",
     "text": [
      "['B', 'C']\n"
     ]
    }
   ],
   "source": [
    "l1 = ['A','B','C']\n",
    "del l1[0]\n",
    "print(l1)\n"
   ]
  },
  {
   "cell_type": "code",
   "execution_count": 36,
   "metadata": {},
   "outputs": [
    {
     "name": "stdout",
     "output_type": "stream",
     "text": [
      "['A', 'B']\n",
      "C\n"
     ]
    }
   ],
   "source": [
    "l1 = ['A','B','C']\n",
    "a = l1.pop()\n",
    "print(l1)\n",
    "print(a)"
   ]
  },
  {
   "cell_type": "code",
   "execution_count": 42,
   "metadata": {},
   "outputs": [
    {
     "name": "stdout",
     "output_type": "stream",
     "text": [
      "['A', 'C']\n",
      "B\n"
     ]
    }
   ],
   "source": [
    "l1 = ['A',\"B\",\"C\"]\n",
    "a = l1.pop(1)\n",
    "print(l1)\n",
    "print(a)\n",
    "# Remove by index number\n",
    "# Return value"
   ]
  },
  {
   "cell_type": "code",
   "execution_count": 43,
   "metadata": {},
   "outputs": [
    {
     "name": "stdout",
     "output_type": "stream",
     "text": [
      "['A', 'B', 'C', 'C', 'D', 'C']\n",
      "['A', 'B', 'C', 'D', 'C']\n"
     ]
    }
   ],
   "source": [
    "# Remove by text value\n",
    "\n",
    "l1 = ['A','B','C','C','D','C']\n",
    "print(l1)\n",
    "l1.remove(\"C\")\n",
    "print(l1)"
   ]
  },
  {
   "cell_type": "code",
   "execution_count": 44,
   "metadata": {},
   "outputs": [
    {
     "name": "stdout",
     "output_type": "stream",
     "text": [
      "['A', 'B', 'C', 'C', 'D', 'C']\n",
      "['A', 'B', 'C', 'D', 'C']\n",
      "['A', 'B', 'D', 'C']\n"
     ]
    }
   ],
   "source": [
    "l1 = ['A','B','C','C','D','C']\n",
    "print(l1)\n",
    "l1.remove(\"C\")\n",
    "print(l1)\n",
    "l1.remove(\"C\")\n",
    "print(l1)"
   ]
  },
  {
   "cell_type": "code",
   "execution_count": 46,
   "metadata": {},
   "outputs": [
    {
     "name": "stdout",
     "output_type": "stream",
     "text": [
      "['A', 'Z', 'X', 'B', 'C', 'Y']\n",
      "['Y', 'C', 'B', 'X', 'Z', 'A']\n"
     ]
    }
   ],
   "source": [
    "l1 = ['A','Z','X',\"B\",\"C\",\"Y\"]\n",
    "print(l1)\n",
    "l1.reverse()\n",
    "print(l1)"
   ]
  },
  {
   "cell_type": "code",
   "execution_count": 47,
   "metadata": {},
   "outputs": [
    {
     "name": "stdout",
     "output_type": "stream",
     "text": [
      "['A', 'Z', 'X', 'B', 'C', 'Y']\n",
      "['A', 'B', 'C', 'X', 'Y', 'Z']\n"
     ]
    }
   ],
   "source": [
    "l1 = ['A','Z','X',\"B\",\"C\",\"Y\"]\n",
    "print(l1)\n",
    "l1.sort()\n",
    "print(l1)"
   ]
  },
  {
   "cell_type": "code",
   "execution_count": 49,
   "metadata": {},
   "outputs": [
    {
     "name": "stdout",
     "output_type": "stream",
     "text": [
      "['A', 'Z', 'X', 'B', 'C', 'Y']\n",
      "['Z', 'Y', 'X', 'C', 'B', 'A']\n"
     ]
    }
   ],
   "source": [
    "l1 = ['A','Z','X',\"B\",\"C\",\"Y\"]\n",
    "print(l1)\n",
    "l1.sort()\n",
    "l1.reverse()\n",
    "print(l1)"
   ]
  },
  {
   "cell_type": "code",
   "execution_count": 50,
   "metadata": {
    "scrolled": true
   },
   "outputs": [
    {
     "name": "stdout",
     "output_type": "stream",
     "text": [
      "['A', 'Z', 'X', 'B', 'C', 'Y']\n",
      "['Z', 'Y', 'X', 'C', 'B', 'A']\n"
     ]
    }
   ],
   "source": [
    "l1 = ['A','Z','X',\"B\",\"C\",\"Y\"]\n",
    "print(l1)\n",
    "l1.sort(reverse=True)\n",
    "print(l1)"
   ]
  },
  {
   "cell_type": "code",
   "execution_count": 53,
   "metadata": {},
   "outputs": [
    {
     "name": "stdout",
     "output_type": "stream",
     "text": [
      "['A', 'C', 'D']\n"
     ]
    },
    {
     "data": {
      "text/plain": [
       "['A', 'B', 'C', 'D', 'E']"
      ]
     },
     "execution_count": 53,
     "metadata": {},
     "output_type": "execute_result"
    }
   ],
   "source": [
    "l1 = ['A',\"B\",\"C\"]\n",
    "print(['A'] + [\"C\",\"D\"]) # In line Operation\n",
    "l1.__add__(['D','E']) # In Line Operation\n"
   ]
  },
  {
   "cell_type": "code",
   "execution_count": 57,
   "metadata": {},
   "outputs": [
    {
     "data": {
      "text/plain": [
       "list"
      ]
     },
     "execution_count": 57,
     "metadata": {},
     "output_type": "execute_result"
    }
   ],
   "source": [
    "l1 = ['A',\"C\",'D']\n",
    "l1.__class__"
   ]
  },
  {
   "cell_type": "code",
   "execution_count": 60,
   "metadata": {},
   "outputs": [
    {
     "name": "stdout",
     "output_type": "stream",
     "text": [
      "True\n",
      "False\n",
      "True\n"
     ]
    }
   ],
   "source": [
    "l1 = ['A',\"C\",'D']\n",
    "print(l1.__contains__(\"A\"))\n",
    "print(l1.__contains__(\"E\"))\n",
    "\n",
    "print(\"A\" in l1)"
   ]
  },
  {
   "cell_type": "code",
   "execution_count": 61,
   "metadata": {},
   "outputs": [
    {
     "name": "stdout",
     "output_type": "stream",
     "text": [
      "True\n",
      "False\n"
     ]
    }
   ],
   "source": [
    "l1 = ['A',\"C\",'D']\n",
    "l2 = ['A',\"C\",'D']\n",
    "l3 = [\"D\",'E']\n",
    "print(l1.__eq__(l2))\n",
    "print(l1.__eq__(l3))"
   ]
  },
  {
   "cell_type": "code",
   "execution_count": 63,
   "metadata": {},
   "outputs": [
    {
     "name": "stdout",
     "output_type": "stream",
     "text": [
      "True\n",
      "False\n"
     ]
    }
   ],
   "source": [
    "l1 = [5,7, 9]\n",
    "l2 = [3,5,6]\n",
    "l3 = [7,9,10]\n",
    "print(l1.__ge__(l2))\n",
    "print(l1.__ge__(l3))"
   ]
  },
  {
   "cell_type": "code",
   "execution_count": 64,
   "metadata": {},
   "outputs": [
    {
     "name": "stdout",
     "output_type": "stream",
     "text": [
      "3\n",
      "3\n"
     ]
    }
   ],
   "source": [
    "print(len(l1))\n",
    "print(l1.__len__())"
   ]
  },
  {
   "cell_type": "code",
   "execution_count": 65,
   "metadata": {},
   "outputs": [
    {
     "data": {
      "text/plain": [
       "['pakistan',\n",
       " 'pakistan',\n",
       " 'pakistan',\n",
       " 'pakistan',\n",
       " 'pakistan',\n",
       " 'pakistan',\n",
       " 'pakistan',\n",
       " 'pakistan',\n",
       " 'pakistan',\n",
       " 'pakistan']"
      ]
     },
     "execution_count": 65,
     "metadata": {},
     "output_type": "execute_result"
    }
   ],
   "source": [
    "[\"pakistan\"] * 10"
   ]
  },
  {
   "cell_type": "code",
   "execution_count": 3,
   "metadata": {},
   "outputs": [
    {
     "data": {
      "text/plain": [
       "['__add__',\n",
       " '__class__',\n",
       " '__contains__',\n",
       " '__delattr__',\n",
       " '__delitem__',\n",
       " '__dir__',\n",
       " '__doc__',\n",
       " '__eq__',\n",
       " '__format__',\n",
       " '__ge__',\n",
       " '__getattribute__',\n",
       " '__getitem__',\n",
       " '__gt__',\n",
       " '__hash__',\n",
       " '__iadd__',\n",
       " '__imul__',\n",
       " '__init__',\n",
       " '__init_subclass__',\n",
       " '__iter__',\n",
       " '__le__',\n",
       " '__len__',\n",
       " '__lt__',\n",
       " '__mul__',\n",
       " '__ne__',\n",
       " '__new__',\n",
       " '__reduce__',\n",
       " '__reduce_ex__',\n",
       " '__repr__',\n",
       " '__reversed__',\n",
       " '__rmul__',\n",
       " '__setattr__',\n",
       " '__setitem__',\n",
       " '__sizeof__',\n",
       " '__str__',\n",
       " '__subclasshook__',\n",
       " 'append',\n",
       " 'clear',\n",
       " 'copy',\n",
       " 'count',\n",
       " 'extend',\n",
       " 'index',\n",
       " 'insert',\n",
       " 'pop',\n",
       " 'remove',\n",
       " 'reverse',\n",
       " 'sort']"
      ]
     },
     "execution_count": 3,
     "metadata": {},
     "output_type": "execute_result"
    }
   ],
   "source": [
    "dir(list)"
   ]
  },
  {
   "cell_type": "markdown",
   "metadata": {},
   "source": [
    "# Loop "
   ]
  },
  {
   "cell_type": "markdown",
   "metadata": {},
   "source": [
    "# counter\n",
    "# Logic\n",
    "# Increment / Decrement\n",
    "\n",
    "1. while\n",
    "2. for\n"
   ]
  },
  {
   "cell_type": "code",
   "execution_count": 68,
   "metadata": {},
   "outputs": [
    {
     "name": "stdout",
     "output_type": "stream",
     "text": [
      "Pakistan  1\n",
      "Pakistan  2\n",
      "Pakistan  3\n",
      "Pakistan  4\n",
      "Pakistan  5\n",
      "Pakistan  6\n",
      "Pakistan  7\n",
      "Pakistan  8\n",
      "Pakistan  9\n",
      "Pakistan  10\n"
     ]
    }
   ],
   "source": [
    "counter = 1 # Counter\n",
    "\n",
    "while counter <= 10: #Logic\n",
    "    print(\"Pakistan \", counter)\n",
    "    counter += 1# Increment"
   ]
  },
  {
   "cell_type": "code",
   "execution_count": 70,
   "metadata": {},
   "outputs": [
    {
     "name": "stdout",
     "output_type": "stream",
     "text": [
      "Pakistan  100\n",
      "Pakistan  99\n",
      "Pakistan  98\n",
      "Pakistan  97\n",
      "Pakistan  96\n",
      "Pakistan  95\n",
      "Pakistan  94\n",
      "Pakistan  93\n",
      "Pakistan  92\n",
      "Pakistan  91\n",
      "Pakistan  90\n"
     ]
    }
   ],
   "source": [
    "counter = 100 # Counter\n",
    "\n",
    "while counter >=90: #Logic\n",
    "    print(\"Pakistan \", counter)\n",
    "    counter -= 1# Increment"
   ]
  },
  {
   "cell_type": "raw",
   "metadata": {},
   "source": [
    "for (count; logic; increment){\n",
    "    \n",
    "}"
   ]
  },
  {
   "cell_type": "code",
   "execution_count": 69,
   "metadata": {},
   "outputs": [
    {
     "name": "stdout",
     "output_type": "stream",
     "text": [
      "pakistan 1\n",
      "pakistan 2\n",
      "pakistan 3\n",
      "pakistan 4\n",
      "pakistan 5\n",
      "pakistan 6\n",
      "pakistan 7\n",
      "pakistan 8\n",
      "pakistan 9\n",
      "pakistan 10\n"
     ]
    }
   ],
   "source": [
    "for i in range(1,11):\n",
    "    print(\"pakistan\",i)"
   ]
  },
  {
   "cell_type": "code",
   "execution_count": 73,
   "metadata": {},
   "outputs": [
    {
     "data": {
      "text/plain": [
       "['pakistan1',\n",
       " 'pakistan2',\n",
       " 'pakistan3',\n",
       " 'pakistan4',\n",
       " 'pakistan5',\n",
       " 'pakistan6',\n",
       " 'pakistan7',\n",
       " 'pakistan8',\n",
       " 'pakistan9',\n",
       " 'pakistan10']"
      ]
     },
     "execution_count": 73,
     "metadata": {},
     "output_type": "execute_result"
    }
   ],
   "source": [
    "[\"pakistan\"+str(x) for x in range(1,11)]"
   ]
  },
  {
   "cell_type": "code",
   "execution_count": 76,
   "metadata": {},
   "outputs": [
    {
     "name": "stdout",
     "output_type": "stream",
     "text": [
      "2 X 1 = 2\n",
      "2 X 2 = 4\n",
      "2 X 3 = 6\n",
      "2 X 4 = 8\n",
      "2 X 5 = 10\n",
      "2 X 6 = 12\n",
      "2 X 7 = 14\n",
      "2 X 8 = 16\n",
      "2 X 9 = 18\n",
      "2 X 10 = 20\n"
     ]
    }
   ],
   "source": [
    "for i in range(1,11):\n",
    "    print(2, \"X\", i , \"=\", 2*i)"
   ]
  },
  {
   "cell_type": "code",
   "execution_count": 77,
   "metadata": {},
   "outputs": [
    {
     "name": "stdout",
     "output_type": "stream",
     "text": [
      "2 X 1=2\n",
      "2 X 2=4\n",
      "2 X 3=6\n",
      "2 X 4=8\n",
      "2 X 5=10\n",
      "2 X 6=12\n",
      "2 X 7=14\n",
      "2 X 8=16\n",
      "2 X 9=18\n",
      "2 X 10=20\n"
     ]
    }
   ],
   "source": [
    "for i in range(1,11):\n",
    "    print(\"2 X \" + str(i) + \"=\" + str(2*i))"
   ]
  },
  {
   "cell_type": "code",
   "execution_count": 78,
   "metadata": {},
   "outputs": [
    {
     "data": {
      "text/plain": [
       "['2 X 1 = 2',\n",
       " '2 X 2 = 4',\n",
       " '2 X 3 = 6',\n",
       " '2 X 4 = 8',\n",
       " '2 X 5 = 10',\n",
       " '2 X 6 = 12',\n",
       " '2 X 7 = 14',\n",
       " '2 X 8 = 16',\n",
       " '2 X 9 = 18',\n",
       " '2 X 10 = 20']"
      ]
     },
     "execution_count": 78,
     "metadata": {},
     "output_type": "execute_result"
    }
   ],
   "source": [
    "[\"2 X \"+str(i)+\" = \"+str(i*2) for i in range(1,11)]"
   ]
  },
  {
   "cell_type": "markdown",
   "metadata": {},
   "source": [
    "# Tuple"
   ]
  },
  {
   "cell_type": "code",
   "execution_count": null,
   "metadata": {},
   "outputs": [],
   "source": []
  },
  {
   "cell_type": "code",
   "execution_count": 79,
   "metadata": {},
   "outputs": [
    {
     "data": {
      "text/plain": [
       "['__add__',\n",
       " '__class__',\n",
       " '__contains__',\n",
       " '__delattr__',\n",
       " '__dir__',\n",
       " '__doc__',\n",
       " '__eq__',\n",
       " '__format__',\n",
       " '__ge__',\n",
       " '__getattribute__',\n",
       " '__getitem__',\n",
       " '__getnewargs__',\n",
       " '__gt__',\n",
       " '__hash__',\n",
       " '__init__',\n",
       " '__init_subclass__',\n",
       " '__iter__',\n",
       " '__le__',\n",
       " '__len__',\n",
       " '__lt__',\n",
       " '__mul__',\n",
       " '__ne__',\n",
       " '__new__',\n",
       " '__reduce__',\n",
       " '__reduce_ex__',\n",
       " '__repr__',\n",
       " '__rmul__',\n",
       " '__setattr__',\n",
       " '__sizeof__',\n",
       " '__str__',\n",
       " '__subclasshook__',\n",
       " 'count',\n",
       " 'index']"
      ]
     },
     "execution_count": 79,
     "metadata": {},
     "output_type": "execute_result"
    }
   ],
   "source": [
    "dir(tuple)"
   ]
  },
  {
   "cell_type": "code",
   "execution_count": 80,
   "metadata": {},
   "outputs": [
    {
     "data": {
      "text/plain": [
       "2"
      ]
     },
     "execution_count": 80,
     "metadata": {},
     "output_type": "execute_result"
    }
   ],
   "source": [
    "a = (1,2,3,2,1)\n",
    "a.count(1)"
   ]
  },
  {
   "cell_type": "code",
   "execution_count": 81,
   "metadata": {},
   "outputs": [
    {
     "data": {
      "text/plain": [
       "2"
      ]
     },
     "execution_count": 81,
     "metadata": {},
     "output_type": "execute_result"
    }
   ],
   "source": [
    "a.index(3)"
   ]
  },
  {
   "cell_type": "code",
   "execution_count": null,
   "metadata": {},
   "outputs": [],
   "source": [
    "[['a','b','c'],\n",
    "['a','c','d'],\n",
    "['z','z','z']]\n",
    "NO\n"
   ]
  }
 ],
 "metadata": {
  "kernelspec": {
   "display_name": "Python 3",
   "language": "python",
   "name": "python3"
  },
  "language_info": {
   "codemirror_mode": {
    "name": "ipython",
    "version": 3
   },
   "file_extension": ".py",
   "mimetype": "text/x-python",
   "name": "python",
   "nbconvert_exporter": "python",
   "pygments_lexer": "ipython3",
   "version": "3.7.1"
  }
 },
 "nbformat": 4,
 "nbformat_minor": 2
}
