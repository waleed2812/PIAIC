{
 "cells": [
  {
   "cell_type": "markdown",
   "metadata": {},
   "source": [
    "# MNIST Handwritten Digit Classification Dataset  \n",
    "The MNIST dataset is an acronym that stands for the Modified National Institute of Standards and Technology dataset.  \n",
    "  \n",
    "It is a dataset of 60,000 small square 28×28 pixel grayscale images of handwritten single digits between 0 and 9.  \n",
    "  \n",
    "The task is to classify a given image of a handwritten digit into one of 10 classes representing integer values from 0 to 9, inclusively.  \n",
    "  \n",
    "It is a widely used and deeply understood dataset and, for the most part, is “solved.” Top-performing models are deep learning convolutional neural networks that achieve a classification accuracy of above 99%, with an error rate between 0.4 %and 0.2% on the hold out test dataset.  \n",
    "  \n",
    "The example below loads the MNIST dataset using the Keras API and creates a plot of the first nine images in the training dataset.  "
   ]
  },
  {
   "cell_type": "code",
   "execution_count": 1,
   "metadata": {},
   "outputs": [
    {
     "name": "stdout",
     "output_type": "stream",
     "text": [
      "Train: X=(60000, 28, 28), y=(60000,)\n",
      "Test: X=(10000, 28, 28), y=(10000,)\n"
     ]
    },
    {
     "data": {
      "image/png": "[encoded data removed]",
      "text/plain": [
       "<Figure size 432x288 with 9 Axes>"
      ]
     },
     "metadata": {
      "needs_background": "light"
     },
     "output_type": "display_data"
    }
   ],
   "source": [
    "# example of loading the mnist dataset\n",
    "from tensorflow.keras.datasets import mnist\n",
    "from matplotlib import pyplot\n",
    "# load dataset\n",
    "(trainX, trainy), (testX, testy) = mnist.load_data()\n",
    "# summarize loaded dataset\n",
    "print('Train: X=%s, y=%s' % (trainX.shape, trainy.shape))\n",
    "print('Test: X=%s, y=%s' % (testX.shape, testy.shape))\n",
    "# plot first few images\n",
    "for i in range(9):\n",
    "    # define subplot\n",
    "    pyplot.subplot(330 + 1 + i)\n",
    "    # plot raw pixel data\n",
    "    pyplot.imshow(trainX[i], cmap=pyplot.get_cmap('gray'))\n",
    "# show the figure\n",
    "pyplot.show()"
   ]
  },
  {
   "cell_type": "markdown",
   "metadata": {},
   "source": [
    "Running the example loads the MNIST train and test dataset and prints their shape.  \n",
    "  \n",
    "We can see that there are 60,000 examples in the training dataset and 10,000 in the test dataset and that images are indeed square with 28×28 pixels.  \n",
    "  \n",
    "A plot of the first nine images in the dataset is also created showing the natural handwritten nature of the images to be classified.  \n",
    "  \n",
    "# Model Evaluation Methodology  \n",
    "Although the MNIST dataset is effectively solved, it can be a useful starting point for developing and practicing a methodology for solving image classification tasks using convolutional neural networks.  \n",
    "  \n",
    "Instead of reviewing the literature on well-performing models on the dataset, we can develop a new model from scratch.  \n",
    "\n",
    "The dataset already has a well-defined train and test dataset that we can use.  \n",
    "  \n",
    "In order to estimate the performance of a model for a given training run, we can further split the training set into a train and validation dataset. Performance on the train and validation dataset over each run can then be plotted to provide learning curves and insight into how well a model is learning the problem.  \n",
    "\n",
    "The Keras API supports this by specifying the “validation_data” argument to the model.fit() function when training the model, that will, in turn, return an object that describes model performance for the chosen loss and metrics on each training epoch.  \n",
    "```\n",
    "# record model performance on a validation dataset during training\n",
    "history = model.fit(..., validation_data=(valX, valY))\n",
    "```\n",
    "In order to estimate the performance of a model on the problem in general, we can use [k-fold cross-validation](https://machinelearningmastery.com/k-fold-cross-validation/), perhaps five-fold cross-validation. This will give some account of the models variance with both respect to differences in the training and test datasets, and in terms of the stochastic nature of the learning algorithm. The performance of a model can be taken as the mean performance across k-folds, given the standard deviation, that could be used to estimate a confidence interval if desired.  \n",
    "  \n",
    "We can use the [KFold class](https://scikit-learn.org/stable/modules/generated/sklearn.model_selection.KFold.html) from the scikit-learn API to implement the k-fold cross-validation evaluation of a given neural network model. There are many ways to achieve this, although we can choose a flexible approach where the KFold class is only used to specify the row indexes used for each spit.  \n",
    "```\n",
    "# example of k-fold cv for a neural net\n",
    "data = ...\n",
    "# prepare cross validation\n",
    "kfold = KFold(5, shuffle=True, random_state=1)\n",
    "# enumerate splits\n",
    "for train_ix, test_ix in kfold.split(data):\n",
    "        model = ...\n",
    "\t...\n",
    "```  \n",
    "  \n",
    "We will hold back the actual test dataset and use it as an evaluation of our final model.  \n",
    "  \n",
    "# How to Develop a Baseline Model  \n",
    "The first step is to develop a baseline model.  \n",
    "\n",
    "This is critical as it both involves developing the infrastructure for the test harness so that any model we design can be evaluated on the dataset, and it establishes a baseline in model performance on the problem, by which all improvements can be compared.  \n",
    "  \n",
    "The design of the test harness is modular, and we can develop a separate function for each piece. This allows a given aspect of the test harness to be modified or inter-changed, if we desire, separately from the rest.  \n",
    "  \n",
    "We can develop this test harness with five key elements. They are the loading of the dataset, the preparation of the dataset, the definition of the model, the evaluation of the model, and the presentation of results.  \n",
    "  \n",
    "## Load Dataset  \n",
    "We know some things about the dataset.  \n",
    "  \n",
    "For example, we know that the images are all pre-aligned (e.g. each image only contains a hand-drawn digit), that the images all have the same square size of 28×28 pixels, and that the images are grayscale.  \n",
    "  \n",
    "Therefore, we can load the images and reshape the data arrays to have a single color channel.  \n",
    "  \n",
    "```\n",
    "# load dataset\n",
    "(trainX, trainY), (testX, testY) = mnist.load_data()\n",
    "# reshape dataset to have a single channel\n",
    "trainX = trainX.reshape((trainX.shape[0], 28, 28, 1))\n",
    "testX = testX.reshape((testX.shape[0], 28, 28, 1))\n",
    "```  \n",
    "We also know that there are 10 classes and that classes are represented as unique integers.  \n",
    "  \n",
    "We can, therefore, use a one hot encoding for the class element of each sample, transforming the integer into a 10 element binary vector with a 1 for the index of the class value, and 0 values for all other classes. We can achieve this with the to_categorical() utility function.  \n",
    "  \n",
    "```\n",
    "# one hot encode target values\n",
    "trainY = to_categorical(trainY)\n",
    "testY = to_categorical(testY)\n",
    "```  \n",
    "  \n",
    "The load_dataset() function implements these behaviors and can be used to load the dataset."
   ]
  },
  {
   "cell_type": "code",
   "execution_count": 20,
   "metadata": {},
   "outputs": [],
   "source": [
    "from tensorflow.keras.utils import to_categorical\n",
    "\n",
    "# load dataset\n",
    "(trainX, trainY), (testX, testY) = mnist.load_data()\n",
    "# reshape dataset to have a single channel\n",
    "trainX = trainX.reshape((trainX.shape[0], 28, 28, 1))\n",
    "testX = testX.reshape((testX.shape[0], 28, 28, 1))\n",
    "# one hot encode target values\n",
    "trainY = to_categorical(trainY)\n",
    "testY = to_categorical(testY)"
   ]
  },
  {
   "cell_type": "markdown",
   "metadata": {},
   "source": [
    "## Prepare Pixel Data  \n",
    "We know that the pixel values for each image in the dataset are unsigned integers in the range between black and white, or 0 and 255.  \n",
    "  \n",
    "We do not know the best way to scale the pixel values for modeling, but we know that some scaling will be required.  \n",
    "\n",
    "A good starting point is to normalize the pixel values of grayscale images, e.g. rescale them to the range [0,1]. This involves first converting the data type from unsigned integers to floats, then dividing the pixel values by the maximum value.  \n",
    "  \n",
    "```\n",
    "# convert from integers to floats\n",
    "train_norm = train.astype('float32')\n",
    "test_norm = test.astype('float32')\n",
    "# normalize to range 0-1\n",
    "train_norm = train_norm / 255.0\n",
    "test_norm = test_norm / 255.0\n",
    "```  \n",
    "The prep_pixels() function below implements these behaviors and is provided with the pixel values for both the train and test datasets that will need to be scaled.  "
   ]
  },
  {
   "cell_type": "code",
   "execution_count": 21,
   "metadata": {},
   "outputs": [],
   "source": [
    "train = trainX\n",
    "test = testX\n",
    "\n",
    "# convert from integers to floats\n",
    "train_norm = train.astype('float32')\n",
    "test_norm = test.astype('float32')\n",
    "# normalize to range 0-1\n",
    "train_norm = train_norm / 255.0\n",
    "test_norm = test_norm / 255.0"
   ]
  },
  {
   "cell_type": "markdown",
   "metadata": {},
   "source": [
    "## Define Model  \n",
    "Next, we need to define a baseline convolutional neural network model for the problem.  \n",
    "  \n",
    "The model has two main aspects: the feature extraction front end comprised of convolutional and pooling layers, and the classifier backend that will make a prediction.  \n",
    "\n",
    "For the convolutional front-end, we can start with a single [convolutional layer](https://machinelearningmastery.com/convolutional-layers-for-deep-learning-neural-networks/) with a small filter size (3,3) and a modest number of filters (32) followed by a [max pooling layer](https://machinelearningmastery.com/pooling-layers-for-convolutional-neural-networks/). The filter maps can then be flattened to provide features to the classifier.  \n",
    "  \n",
    "Given that the problem is a multi-class classification task, we know that we will require an output layer with 10 nodes in order to predict the probability distribution of an image belonging to each of the 10 classes. This will also require the use of a softmax activation function. Between the feature extractor and the output layer, we can add a dense layer to interpret the features, in this case with 100 nodes.  \n",
    "  \n",
    "All layers will use the [ReLU activation function](https://machinelearningmastery.com/rectified-linear-activation-function-for-deep-learning-neural-networks/) and the He weight initialization scheme, both best practices.  \n",
    "  \n",
    "We will use a conservative configuration for the stochastic gradient descent optimizer with a [learning rate](https://machinelearningmastery.com/understand-the-dynamics-of-learning-rate-on-deep-learning-neural-networks/) of 0.01 and a momentum of 0.9. The [categorical cross-entropy](https://machinelearningmastery.com/cross-entropy-for-machine-learning/) loss function will be optimized, suitable for multi-class classification, and we will monitor the classification accuracy metric, which is appropriate given we have the same number of examples in each of the 10 classes.  \n",
    "\n",
    "The define_model() function below will define and return this model.  "
   ]
  },
  {
   "cell_type": "code",
   "execution_count": 9,
   "metadata": {},
   "outputs": [],
   "source": [
    "from tensorflow.keras.models import Sequential\n",
    "from tensorflow.keras.layers import Conv2D\n",
    "from tensorflow.keras.layers import MaxPooling2D\n",
    "from tensorflow.keras.layers import Dense\n",
    "from tensorflow.keras.layers import Flatten\n",
    "from tensorflow.keras.optimizers import SGD\n",
    "\n",
    "model = Sequential()\n",
    "model.add(Conv2D(32, (3, 3), activation='relu', kernel_initializer='he_uniform', input_shape=(28, 28, 1)))\n",
    "model.add(MaxPooling2D((2, 2)))\n",
    "model.add(Flatten())\n",
    "model.add(Dense(100, activation='relu', kernel_initializer='he_uniform'))\n",
    "model.add(Dense(10, activation='softmax'))\n",
    "# compile model\n",
    "opt = SGD(lr=0.01, momentum=0.9)\n",
    "model.compile(optimizer=opt, loss='categorical_crossentropy', metrics=['accuracy'])"
   ]
  },
  {
   "cell_type": "markdown",
   "metadata": {},
   "source": [
    "## Evaluate Model  \n",
    "After the model is defined, we need to evaluate it.  \n",
    "\n",
    "The model will be evaluated using [five-fold cross-validation](https://machinelearningmastery.com/k-fold-cross-validation/). The value of k=5 was chosen to provide a baseline for both repeated evaluation and to not be so large as to require a long running time. Each test set will be 20% of the training dataset, or about 12,000 examples, close to the size of the actual test set for this problem.  \n",
    "  \n",
    "The training dataset is shuffled prior to being split, and the sample shuffling is performed each time, so that any model we evaluate will have the same train and test datasets in each fold, providing an apples-to-apples comparison between models.  \n",
    "\n",
    "We will train the baseline model for a modest 10 training epochs with a default batch size of 32 examples. The test set for each fold will be used to evaluate the model both during each epoch of the training run, so that we can later create learning curves, and at the end of the run, so that we can estimate the performance of the model. As such, we will keep track of the resulting history from each run, as well as the classification accuracy of the fold.  \n",
    "  \n",
    "The evaluate_model() function below implements these behaviors, taking the training dataset as arguments and returning a list of accuracy scores and training histories that can be later summarized.  "
   ]
  },
  {
   "cell_type": "code",
   "execution_count": 13,
   "metadata": {},
   "outputs": [
    {
     "name": "stdout",
     "output_type": "stream",
     "text": [
      "> 88.533\n",
      "> 89.000\n",
      "> 89.950\n",
      "> 90.808\n",
      "> 90.692\n"
     ]
    }
   ],
   "source": [
    "from sklearn.model_selection import KFold\n",
    "\n",
    "# evaluate a model using k-fold cross-validation\n",
    "dataX = trainX\n",
    "dataY = trainY\n",
    "n_folds=5\n",
    "\n",
    "scores, histories = list(), list()\n",
    "# prepare cross validation\n",
    "kfold = KFold(n_folds, shuffle=True, random_state=1)\n",
    "# enumerate splits\n",
    "for train_ix, test_ix in kfold.split(dataX):\n",
    "    # select rows for train and test\n",
    "    trainX, trainY, testX, testY = dataX[train_ix], dataY[train_ix], dataX[test_ix], dataY[test_ix]\n",
    "    # fit model\n",
    "    history = model.fit(trainX, trainY, epochs=10, batch_size=32, validation_data=(testX, testY), verbose=0)\n",
    "    # evaluate model\n",
    "    _, acc = model.evaluate(testX, testY, verbose=0)\n",
    "    print('> %.3f' % (acc * 100.0))\n",
    "    # stores scores\n",
    "    scores.append(acc)\n",
    "    histories.append(history)"
   ]
  },
  {
   "cell_type": "markdown",
   "metadata": {},
   "source": [
    "## Present Results\n",
    "Once the model has been evaluated, we can present the results.  \n",
    "  \n",
    "There are two key aspects to present: the diagnostics of the learning behavior of the model during training and the estimation of the model performance. These can be implemented using separate functions.  \n",
    "  \n",
    "First, the diagnostics involve creating a line plot showing model performance on the train and test set during each fold of the k-fold cross-validation. These plots are valuable for getting an idea of whether a model is overfitting, underfitting, or has a good fit for the dataset.  \n",
    "\n",
    "We will create a single figure with two subplots, one for loss and one for accuracy. Blue lines will indicate model performance on the training dataset and orange lines will indicate performance on the hold out test dataset. The summarize_diagnostics() function below creates and shows this plot given the collected training histories.  "
   ]
  },
  {
   "cell_type": "code",
   "execution_count": 15,
   "metadata": {},
   "outputs": [
    {
     "name": "stderr",
     "output_type": "stream",
     "text": [
      "<ipython-input-15-80b906a179b0>:5: MatplotlibDeprecationWarning: Adding an axes using the same arguments as a previous axes currently reuses the earlier instance.  In a future version, a new instance will always be created and returned.  Meanwhile, this warning can be suppressed, and the future behavior ensured, by passing a unique label to each axes instance.\n",
      "  pyplot.subplot(2, 1, 1)\n",
      "<ipython-input-15-80b906a179b0>:10: MatplotlibDeprecationWarning: Adding an axes using the same arguments as a previous axes currently reuses the earlier instance.  In a future version, a new instance will always be created and returned.  Meanwhile, this warning can be suppressed, and the future behavior ensured, by passing a unique label to each axes instance.\n",
      "  pyplot.subplot(2, 1, 2)\n"
     ]
    },
    {
     "data": {
      "image/png": "[encoded data removed]",
      "text/plain": [
       "<Figure size 432x288 with 2 Axes>"
      ]
     },
     "metadata": {
      "needs_background": "light"
     },
     "output_type": "display_data"
    }
   ],
   "source": [
    "from matplotlib import pyplot\n",
    "\n",
    "for i in range(len(histories)):\n",
    "    # plot loss\n",
    "    pyplot.subplot(2, 1, 1)\n",
    "    pyplot.title('Cross Entropy Loss')\n",
    "    pyplot.plot(histories[i].history['loss'], color='blue', label='train')\n",
    "    pyplot.plot(histories[i].history['val_loss'], color='orange', label='test')\n",
    "    # plot accuracy\n",
    "    pyplot.subplot(2, 1, 2)\n",
    "    pyplot.title('Classification Accuracy')\n",
    "    pyplot.plot(histories[i].history['accuracy'], color='blue', label='train')\n",
    "    pyplot.plot(histories[i].history['val_accuracy'], color='orange', label='test')\n",
    "pyplot.show()"
   ]
  },
  {
   "cell_type": "markdown",
   "metadata": {},
   "source": [
    "Next, the classification accuracy scores collected during each fold can be summarized by calculating the mean and standard deviation. This provides an estimate of the average expected performance of the model trained on this dataset, with an estimate of the average variance in the mean. We will also summarize the distribution of scores by creating and showing a box and whisker plot.  \n",
    "  \n",
    "The summarize_performance() function below implements this for a given list of scores collected during model evaluation.  "
   ]
  },
  {
   "cell_type": "code",
   "execution_count": 16,
   "metadata": {},
   "outputs": [
    {
     "name": "stdout",
     "output_type": "stream",
     "text": [
      "Accuracy: mean=89.797 std=0.903, n=5\n"
     ]
    },
    {
     "data": {
      "image/png": "[encoded data removed]",
      "text/plain": [
       "<Figure size 432x288 with 1 Axes>"
      ]
     },
     "metadata": {
      "needs_background": "light"
     },
     "output_type": "display_data"
    }
   ],
   "source": [
    "from numpy import mean, std\n",
    "\n",
    "# print summary\n",
    "print('Accuracy: mean=%.3f std=%.3f, n=%d' % (mean(scores)*100, std(scores)*100, len(scores)))\n",
    "# box and whisker plots of results\n",
    "pyplot.boxplot(scores)\n",
    "pyplot.show()"
   ]
  },
  {
   "cell_type": "markdown",
   "metadata": {},
   "source": [
    "# How to Finalize the Model and Make Predictions\n",
    "The process of model improvement may continue for as long as we have ideas and the time and resources to test them out.  \n",
    "  \n",
    "At some point, a final model configuration must be chosen and adopted. In this case, we will choose the deeper model as our final model.  \n",
    "\n",
    "First, we will finalize our model, but fitting a model on the entire training dataset and saving the model to file for later use. We will then load the model and evaluate its performance on the hold out test dataset to get an idea of how well the chosen model actually performs in practice. Finally, we will use the saved model to make a prediction on a single image.  \n",
    "  \n",
    "## Save Final Model  \n",
    "A final model is typically fit on all available data, such as the combination of all train and test dataset.  \n",
    "  \n",
    "In this tutorial, we are intentionally holding back a test dataset so that we can estimate the performance of the final model, which can be a good idea in practice. As such, we will fit our model on the training dataset only.  \n",
    "  \n",
    "```\n",
    "# fit model\n",
    "model.fit(trainX, trainY, epochs=10, batch_size=32, verbose=0)\n",
    "```  \n",
    "  \n",
    "Once fit, we can save the final model to an H5 file by calling the save() function on the model and pass in the chosen filename.\n",
    "  \n",
    "```\n",
    "# save model\n",
    "model.save('final_model.h5')\n",
    "```\n",
    "\n",
    "Note, saving and loading a Keras model requires that the [h5py library](https://www.h5py.org/) is installed on your workstation.  \n",
    "  \n",
    "The complete example of fitting the final deep model on the training dataset and saving it to file is listed below.  "
   ]
  },
  {
   "cell_type": "code",
   "execution_count": 17,
   "metadata": {},
   "outputs": [],
   "source": [
    "# save model\n",
    "model.save('hand-written-digit.h5')"
   ]
  },
  {
   "cell_type": "markdown",
   "metadata": {},
   "source": [
    "## Evaluate Final Model\n",
    "We can now load the final model and evaluate it on the hold out test dataset.  \n",
    "\n",
    "This is something we might do if we were interested in presenting the performance of the chosen model to project stakeholders.  \n",
    "\n",
    "The model can be loaded via the load_model() function.  \n",
    "\n",
    "The complete example of loading the saved model and evaluating it on the test dataset is listed below.  \n",
    "  \n",
    "Running the example loads the saved model and evaluates the model on the hold out test dataset."
   ]
  },
  {
   "cell_type": "code",
   "execution_count": 22,
   "metadata": {},
   "outputs": [
    {
     "name": "stdout",
     "output_type": "stream",
     "text": [
      "> 90.480\n"
     ]
    }
   ],
   "source": [
    "from tensorflow.keras.models import load_model\n",
    "\n",
    "# evaluate model on test dataset\n",
    "model = load_model('hand-written-digit.h5')\n",
    "_, acc = model.evaluate(testX, testY, verbose=0)\n",
    "print('> %.3f' % (acc * 100.0))"
   ]
  },
  {
   "cell_type": "markdown",
   "metadata": {},
   "source": [
    "## Make Prediction\n",
    "We can use our saved model to make a prediction on new images.  \n",
    "\n",
    "The model assumes that new images are grayscale, that they have been aligned so that one image contains one centered handwritten digit, and that the size of the image is square with the size 28×28 pixels.  \n",
    "\n",
    "Below is an image extracted from the MNIST test dataset. You can save it in your current working directory with the filename ‘sample_image.png‘.  \n",
    "<img src='https://3qeqpr26caki16dnhd19sv6by6v-wpengine.netdna-ssl.com/wp-content/uploads/2019/02/sample_image.png' alt='Handwritten Digit 7' width='300px' height='300px' />\n",
    "  \n",
    "* [Download the sample image (sample_image.png)](https://3qeqpr26caki16dnhd19sv6by6v-wpengine.netdna-ssl.com/wp-content/uploads/2019/02/sample_image.png)  \n",
    "  \n",
    "We will pretend this is an entirely new and unseen image, prepared in the required way, and see how we might use our saved model to predict the integer that the image represents (e.g. we expect “7“).  \n",
    "\n",
    "First, we can load the image, force it to be in grayscale format, and force the size to be 28×28 pixels. The loaded image can then be resized to have a single channel and represent a single sample in a dataset. The load_image() function implements this and will return the loaded image ready for classification.  \n",
    "\n",
    "Importantly, the pixel values are prepared in the same way as the pixel values were prepared for the training dataset when fitting the final model, in this case, normalized.  \n",
    "  \n",
    "```\n",
    "# load the image\n",
    "img = load_img(filename, grayscale=True, target_size=(28, 28))\n",
    "# convert to array\n",
    "img = img_to_array(img)\n",
    "# reshape into a single sample with 1 channel\n",
    "img = img.reshape(1, 28, 28, 1)\n",
    "# prepare pixel data\n",
    "img = img.astype('float32')\n",
    "img = img / 255.0\n",
    "return img\n",
    "```\n",
    "Next, we can load the model as in the previous section and call the predict_classes() function to predict the digit that the image represents.  \n",
    "  \n",
    "```\n",
    "# predict the class\n",
    "digit = model.predict_classes(img)\n",
    "```\n",
    "\n",
    "The complete example is listed below."
   ]
  },
  {
   "cell_type": "code",
   "execution_count": 23,
   "metadata": {},
   "outputs": [
    {
     "name": "stderr",
     "output_type": "stream",
     "text": [
      "/home/walee/anaconda3/lib/python3.8/site-packages/keras_preprocessing/image/utils.py:107: UserWarning: grayscale is deprecated. Please use color_mode = \"grayscale\"\n",
      "  warnings.warn('grayscale is deprecated. Please use '\n",
      "/home/walee/anaconda3/lib/python3.8/site-packages/tensorflow/python/keras/engine/sequential.py:450: UserWarning: `model.predict_classes()` is deprecated and will be removed after 2021-01-01. Please use instead:* `np.argmax(model.predict(x), axis=-1)`,   if your model does multi-class classification   (e.g. if it uses a `softmax` last-layer activation).* `(model.predict(x) > 0.5).astype(\"int32\")`,   if your model does binary classification   (e.g. if it uses a `sigmoid` last-layer activation).\n",
      "  warnings.warn('`model.predict_classes()` is deprecated and '\n"
     ]
    },
    {
     "name": "stdout",
     "output_type": "stream",
     "text": [
      "7\n"
     ]
    }
   ],
   "source": [
    "# make a prediction for a new image.\n",
    "from tensorflow.keras.preprocessing.image import load_img\n",
    "from tensorflow.keras.preprocessing.image import img_to_array\n",
    "from tensorflow.keras.models import load_model\n",
    "\n",
    "# load an image and predict the class\n",
    "# load and prepare the image\n",
    "filename = 'sample_image.png'\n",
    "# load the image\n",
    "img = load_img(filename, grayscale=True, target_size=(28, 28))\n",
    "# convert to array\n",
    "img = img_to_array(img)\n",
    "# reshape into a single sample with 1 channel\n",
    "img = img.reshape(1, 28, 28, 1)\n",
    "# prepare pixel data\n",
    "img = img.astype('float32')\n",
    "img = img / 255.0\n",
    "\n",
    "# load model\n",
    "model = load_model('hand-written-digit.h5')\n",
    "# predict the class\n",
    "digit = model.predict_classes(img)\n",
    "print(digit[0])"
   ]
  },
  {
   "cell_type": "markdown",
   "metadata": {},
   "source": [
    "# References\n",
    "[How to Develop a CNN for MNIST Handwritten Digit Classification](https://machinelearningmastery.com/how-to-develop-a-convolutional-neural-network-from-scratch-for-mnist-handwritten-digit-classification/)"
   ]
  }
 ],
 "metadata": {
  "kernelspec": {
   "display_name": "Python 3",
   "language": "python",
   "name": "python3"
  },
  "language_info": {
   "codemirror_mode": {
    "name": "ipython",
    "version": 3
   },
   "file_extension": ".py",
   "mimetype": "text/x-python",
   "name": "python",
   "nbconvert_exporter": "python",
   "pygments_lexer": "ipython3",
   "version": "3.8.5"
  }
 },
 "nbformat": 4,
 "nbformat_minor": 4
}
