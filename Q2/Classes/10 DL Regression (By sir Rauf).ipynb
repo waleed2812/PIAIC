{
 "cells": [
  {
   "cell_type": "markdown",
   "metadata": {},
   "source": [
    "https://marktechpost.com/2019/06/17/regression-with-keras-deep-learning-with-keras-part-3/?cn-reloaded=1&cn-reloaded=1"
   ]
  },
  {
   "cell_type": "markdown",
   "metadata": {},
   "source": [
    "# Loading Data"
   ]
  },
  {
   "cell_type": "code",
   "execution_count": 1,
   "metadata": {},
   "outputs": [
    {
     "name": "stdout",
     "output_type": "stream",
     "text": [
      "Downloading data from https://storage.googleapis.com/tensorflow/tf-keras-datasets/boston_housing.npz\n",
      "57344/57026 [==============================] - 0s 2us/step\n"
     ]
    }
   ],
   "source": [
    "from keras.datasets import boston_housing as bh\n",
    "(X_train, Y_train), (X_test, Y_test) = bh.load_data()"
   ]
  },
  {
   "cell_type": "code",
   "execution_count": 2,
   "metadata": {},
   "outputs": [
    {
     "name": "stdout",
     "output_type": "stream",
     "text": [
      "[  1.23247   0.        8.14      0.        0.538     6.142    91.7\n",
      "   3.9769    4.      307.       21.      396.9      18.72   ] 15.2\n"
     ]
    }
   ],
   "source": [
    "# let us view on sample from the features \n",
    "print(X_train[0], Y_train[0])\n",
    "# output (array([ 1.23247, 0. , 8.14 , 8. 91.7 , 3.9769 , 4 ,, 307. 18.72 ]). 15.2) "
   ]
  },
  {
   "cell_type": "markdown",
   "metadata": {},
   "source": [
    "# Preprocessing"
   ]
  },
  {
   "cell_type": "code",
   "execution_count": 8,
   "metadata": {},
   "outputs": [
    {
     "name": "stdout",
     "output_type": "stream",
     "text": [
      "[-0.27224633 -0.48361547 -0.43576161 -0.25683275 -0.1652266  -0.1764426\n",
      "  0.81306188  0.1166983  -0.62624905 -0.59517003  1.14850044  0.44807713\n",
      "  0.8252202 ]\n"
     ]
    }
   ],
   "source": [
    "from sklearn.preprocessing import StandardScaler\n",
    "scaler=StandardScaler()\n",
    "\n",
    "# first we fit the scaler on the training dataset\n",
    "scaler.fit(X_train) \n",
    "\n",
    "# then we call the transform method to scale both the\n",
    "X_train_scaled = scaler.transform(X_train)\n",
    "X_test_scaled = scaler.transform(X_test) \n",
    "\n",
    "# a sample output\n",
    "print(X_train_scaled[0]) \n",
    "# array((-8.27224633, -0.48361547, -0.43576161, -0.2E 4 -0.1764426 , 0.81306188, 0.1166983 , -0.626: 4 1.14858844, 0.44807713, 0.8252282 ]) \n"
   ]
  },
  {
   "cell_type": "markdown",
   "metadata": {},
   "source": [
    "# Building the Model"
   ]
  },
  {
   "cell_type": "code",
   "execution_count": 9,
   "metadata": {},
   "outputs": [],
   "source": [
    "from keras import models, layers"
   ]
  },
  {
   "cell_type": "code",
   "execution_count": 10,
   "metadata": {},
   "outputs": [],
   "source": [
    "model = models.Sequential()"
   ]
  },
  {
   "cell_type": "code",
   "execution_count": 19,
   "metadata": {},
   "outputs": [],
   "source": [
    "model.add(layers.Dense(8, activation='relu',input_shape=[X_train.shape[1]]))\n",
    "model.add(layers.Dense(16, activation='relu'))"
   ]
  },
  {
   "cell_type": "code",
   "execution_count": 20,
   "metadata": {},
   "outputs": [],
   "source": [
    "model.add(layers.Dense(1))"
   ]
  },
  {
   "cell_type": "markdown",
   "metadata": {},
   "source": [
    "# Compile the Model"
   ]
  },
  {
   "cell_type": "code",
   "execution_count": 21,
   "metadata": {},
   "outputs": [],
   "source": [
    "model.compile(optimizer='rmsprop', loss='mse', metrics=['mae'])"
   ]
  },
  {
   "cell_type": "markdown",
   "metadata": {},
   "source": [
    "# Model Training"
   ]
  },
  {
   "cell_type": "code",
   "execution_count": 22,
   "metadata": {
    "scrolled": true
   },
   "outputs": [
    {
     "name": "stdout",
     "output_type": "stream",
     "text": [
      "Epoch 1/100\n",
      "11/11 [==============================] - 1s 48ms/step - loss: 585.8035 - mae: 22.2796 - val_loss: 649.5150 - val_mae: 23.6987\n",
      "Epoch 2/100\n",
      "11/11 [==============================] - 0s 34ms/step - loss: 569.6223 - mae: 21.9715 - val_loss: 632.7341 - val_mae: 23.3876\n",
      "Epoch 3/100\n",
      "11/11 [==============================] - 0s 32ms/step - loss: 554.5187 - mae: 21.6789 - val_loss: 616.2236 - val_mae: 23.0735\n",
      "Epoch 4/100\n",
      "11/11 [==============================] - 0s 30ms/step - loss: 539.7473 - mae: 21.3815 - val_loss: 599.0602 - val_mae: 22.7437\n",
      "Epoch 5/100\n",
      "11/11 [==============================] - 0s 28ms/step - loss: 524.6613 - mae: 21.0768 - val_loss: 583.3578 - val_mae: 22.4313\n",
      "Epoch 6/100\n",
      "11/11 [==============================] - 0s 19ms/step - loss: 510.0672 - mae: 20.7736 - val_loss: 567.3732 - val_mae: 22.1074\n",
      "Epoch 7/100\n",
      "11/11 [==============================] - 0s 11ms/step - loss: 495.1930 - mae: 20.4591 - val_loss: 548.2341 - val_mae: 21.7159\n",
      "Epoch 8/100\n",
      "11/11 [==============================] - 0s 10ms/step - loss: 478.2839 - mae: 20.0923 - val_loss: 531.5394 - val_mae: 21.3583\n",
      "Epoch 9/100\n",
      "11/11 [==============================] - 0s 24ms/step - loss: 462.0080 - mae: 19.7290 - val_loss: 513.2466 - val_mae: 20.9584\n",
      "Epoch 10/100\n",
      "11/11 [==============================] - 0s 21ms/step - loss: 444.8300 - mae: 19.3336 - val_loss: 493.7832 - val_mae: 20.5227\n",
      "Epoch 11/100\n",
      "11/11 [==============================] - 0s 13ms/step - loss: 426.2756 - mae: 18.9006 - val_loss: 471.7809 - val_mae: 20.0246\n",
      "Epoch 12/100\n",
      "11/11 [==============================] - 0s 27ms/step - loss: 405.1008 - mae: 18.3974 - val_loss: 446.0700 - val_mae: 19.4208\n",
      "Epoch 13/100\n",
      "11/11 [==============================] - 0s 35ms/step - loss: 381.8182 - mae: 17.8356 - val_loss: 423.0137 - val_mae: 18.8471\n",
      "Epoch 14/100\n",
      "11/11 [==============================] - 0s 31ms/step - loss: 360.3563 - mae: 17.2730 - val_loss: 399.0716 - val_mae: 18.2426\n",
      "Epoch 15/100\n",
      "11/11 [==============================] - 0s 33ms/step - loss: 338.0814 - mae: 16.6792 - val_loss: 374.8124 - val_mae: 17.6082\n",
      "Epoch 16/100\n",
      "11/11 [==============================] - 0s 34ms/step - loss: 315.4287 - mae: 16.0434 - val_loss: 348.5005 - val_mae: 16.8873\n",
      "Epoch 17/100\n",
      "11/11 [==============================] - 0s 22ms/step - loss: 291.7477 - mae: 15.3422 - val_loss: 323.9063 - val_mae: 16.1695\n",
      "Epoch 18/100\n",
      "11/11 [==============================] - 0s 25ms/step - loss: 269.2406 - mae: 14.6368 - val_loss: 301.3071 - val_mae: 15.4655\n",
      "Epoch 19/100\n",
      "11/11 [==============================] - 0s 20ms/step - loss: 247.8288 - mae: 13.9400 - val_loss: 277.8362 - val_mae: 14.6846\n",
      "Epoch 20/100\n",
      "11/11 [==============================] - 0s 20ms/step - loss: 226.4614 - mae: 13.1825 - val_loss: 255.2476 - val_mae: 13.8718\n",
      "Epoch 21/100\n",
      "11/11 [==============================] - 0s 21ms/step - loss: 205.6513 - mae: 12.4217 - val_loss: 231.6383 - val_mae: 12.9481\n",
      "Epoch 22/100\n",
      "11/11 [==============================] - 0s 17ms/step - loss: 184.7235 - mae: 11.5726 - val_loss: 209.9169 - val_mae: 12.0172\n",
      "Epoch 23/100\n",
      "11/11 [==============================] - 0s 22ms/step - loss: 165.5810 - mae: 10.7378 - val_loss: 191.1281 - val_mae: 11.1683\n",
      "Epoch 24/100\n",
      "11/11 [==============================] - 0s 19ms/step - loss: 148.9219 - mae: 9.9694 - val_loss: 174.1078 - val_mae: 10.3941\n",
      "Epoch 25/100\n",
      "11/11 [==============================] - 0s 17ms/step - loss: 134.3297 - mae: 9.2505 - val_loss: 159.2912 - val_mae: 9.6627\n",
      "Epoch 26/100\n",
      "11/11 [==============================] - 0s 25ms/step - loss: 121.9678 - mae: 8.6262 - val_loss: 148.4145 - val_mae: 9.1537\n",
      "Epoch 27/100\n",
      "11/11 [==============================] - 0s 36ms/step - loss: 112.9544 - mae: 8.1809 - val_loss: 138.2754 - val_mae: 8.7122\n",
      "Epoch 28/100\n",
      "11/11 [==============================] - 1s 52ms/step - loss: 105.2383 - mae: 7.7656 - val_loss: 130.4487 - val_mae: 8.4504\n",
      "Epoch 29/100\n",
      "11/11 [==============================] - 0s 20ms/step - loss: 99.6496 - mae: 7.5047 - val_loss: 126.5911 - val_mae: 8.3513\n",
      "Epoch 30/100\n",
      "11/11 [==============================] - 0s 21ms/step - loss: 96.7806 - mae: 7.3716 - val_loss: 123.1859 - val_mae: 8.2933\n",
      "Epoch 31/100\n",
      "11/11 [==============================] - 0s 21ms/step - loss: 94.3346 - mae: 7.2629 - val_loss: 120.4333 - val_mae: 8.2514\n",
      "Epoch 32/100\n",
      "11/11 [==============================] - 0s 19ms/step - loss: 92.4137 - mae: 7.1680 - val_loss: 119.2510 - val_mae: 8.1982\n",
      "Epoch 33/100\n",
      "11/11 [==============================] - 0s 21ms/step - loss: 91.2432 - mae: 7.1196 - val_loss: 117.7621 - val_mae: 8.1413\n",
      "Epoch 34/100\n",
      "11/11 [==============================] - 0s 20ms/step - loss: 89.8140 - mae: 7.0432 - val_loss: 116.1567 - val_mae: 8.0439\n",
      "Epoch 35/100\n",
      "11/11 [==============================] - 0s 21ms/step - loss: 88.3339 - mae: 6.9679 - val_loss: 114.1792 - val_mae: 7.9985\n",
      "Epoch 36/100\n",
      "11/11 [==============================] - 0s 19ms/step - loss: 86.6364 - mae: 6.8955 - val_loss: 112.6454 - val_mae: 7.9376\n",
      "Epoch 37/100\n",
      "11/11 [==============================] - 0s 23ms/step - loss: 85.3794 - mae: 6.8315 - val_loss: 111.1506 - val_mae: 7.8826\n",
      "Epoch 38/100\n",
      "11/11 [==============================] - 0s 23ms/step - loss: 84.0154 - mae: 6.7664 - val_loss: 109.4694 - val_mae: 7.8141\n",
      "Epoch 39/100\n",
      "11/11 [==============================] - 0s 23ms/step - loss: 82.7020 - mae: 6.7003 - val_loss: 107.7185 - val_mae: 7.7444\n",
      "Epoch 40/100\n",
      "11/11 [==============================] - 0s 21ms/step - loss: 81.2261 - mae: 6.6168 - val_loss: 106.0464 - val_mae: 7.7004\n",
      "Epoch 41/100\n",
      "11/11 [==============================] - 0s 21ms/step - loss: 79.8964 - mae: 6.5538 - val_loss: 104.6416 - val_mae: 7.6331\n",
      "Epoch 42/100\n",
      "11/11 [==============================] - 0s 21ms/step - loss: 78.6897 - mae: 6.4902 - val_loss: 102.9598 - val_mae: 7.5570\n",
      "Epoch 43/100\n",
      "11/11 [==============================] - 0s 20ms/step - loss: 77.3606 - mae: 6.4106 - val_loss: 101.5501 - val_mae: 7.5167\n",
      "Epoch 44/100\n",
      "11/11 [==============================] - 0s 20ms/step - loss: 76.1225 - mae: 6.3448 - val_loss: 100.1163 - val_mae: 7.4546\n",
      "Epoch 45/100\n",
      "11/11 [==============================] - 0s 15ms/step - loss: 74.9905 - mae: 6.2835 - val_loss: 98.5698 - val_mae: 7.3950\n",
      "Epoch 46/100\n",
      "11/11 [==============================] - 0s 12ms/step - loss: 73.6262 - mae: 6.2114 - val_loss: 96.8466 - val_mae: 7.3138\n",
      "Epoch 47/100\n",
      "11/11 [==============================] - 0s 14ms/step - loss: 72.3781 - mae: 6.1400 - val_loss: 95.0631 - val_mae: 7.2484\n",
      "Epoch 48/100\n",
      "11/11 [==============================] - 0s 13ms/step - loss: 70.8468 - mae: 6.0574 - val_loss: 93.7608 - val_mae: 7.1931\n",
      "Epoch 49/100\n",
      "11/11 [==============================] - 0s 19ms/step - loss: 69.6724 - mae: 5.9939 - val_loss: 92.1873 - val_mae: 7.0944\n",
      "Epoch 50/100\n",
      "11/11 [==============================] - 0s 28ms/step - loss: 68.3449 - mae: 5.9033 - val_loss: 91.0058 - val_mae: 7.1048\n",
      "Epoch 51/100\n",
      "11/11 [==============================] - 0s 15ms/step - loss: 67.2812 - mae: 5.8571 - val_loss: 89.4328 - val_mae: 7.0279\n",
      "Epoch 52/100\n",
      "11/11 [==============================] - 0s 24ms/step - loss: 66.0273 - mae: 5.7803 - val_loss: 87.6443 - val_mae: 6.9017\n",
      "Epoch 53/100\n",
      "11/11 [==============================] - 0s 20ms/step - loss: 64.9556 - mae: 5.6833 - val_loss: 86.4695 - val_mae: 6.8830\n",
      "Epoch 54/100\n",
      "11/11 [==============================] - 0s 17ms/step - loss: 63.9003 - mae: 5.6492 - val_loss: 84.9048 - val_mae: 6.8141\n",
      "Epoch 55/100\n",
      "11/11 [==============================] - 0s 16ms/step - loss: 62.6059 - mae: 5.5758 - val_loss: 83.5066 - val_mae: 6.6836\n",
      "Epoch 56/100\n",
      "11/11 [==============================] - 0s 23ms/step - loss: 61.8384 - mae: 5.4794 - val_loss: 82.0382 - val_mae: 6.6554\n",
      "Epoch 57/100\n",
      "11/11 [==============================] - 0s 19ms/step - loss: 60.7751 - mae: 5.4205 - val_loss: 80.9459 - val_mae: 6.6326\n",
      "Epoch 58/100\n",
      "11/11 [==============================] - 0s 13ms/step - loss: 59.8078 - mae: 5.3639 - val_loss: 79.9450 - val_mae: 6.6173\n",
      "Epoch 59/100\n",
      "11/11 [==============================] - 0s 21ms/step - loss: 58.9606 - mae: 5.3262 - val_loss: 78.6166 - val_mae: 6.5631\n",
      "Epoch 60/100\n",
      "11/11 [==============================] - 0s 20ms/step - loss: 57.9976 - mae: 5.2687 - val_loss: 77.0783 - val_mae: 6.4768\n"
     ]
    },
    {
     "name": "stdout",
     "output_type": "stream",
     "text": [
      "Epoch 61/100\n",
      "11/11 [==============================] - 0s 19ms/step - loss: 56.9708 - mae: 5.1926 - val_loss: 75.1183 - val_mae: 6.3747\n",
      "Epoch 62/100\n",
      "11/11 [==============================] - 0s 23ms/step - loss: 55.8796 - mae: 5.1085 - val_loss: 73.9781 - val_mae: 6.3342\n",
      "Epoch 63/100\n",
      "11/11 [==============================] - 0s 27ms/step - loss: 55.0195 - mae: 5.0509 - val_loss: 72.9081 - val_mae: 6.2957\n",
      "Epoch 64/100\n",
      "11/11 [==============================] - 0s 27ms/step - loss: 54.1820 - mae: 5.0129 - val_loss: 71.0424 - val_mae: 6.1431\n",
      "Epoch 65/100\n",
      "11/11 [==============================] - 0s 27ms/step - loss: 53.3480 - mae: 4.9104 - val_loss: 69.8651 - val_mae: 6.1026\n",
      "Epoch 66/100\n",
      "11/11 [==============================] - 0s 25ms/step - loss: 52.6310 - mae: 4.8789 - val_loss: 68.5866 - val_mae: 6.0230\n",
      "Epoch 67/100\n",
      "11/11 [==============================] - 0s 21ms/step - loss: 51.8032 - mae: 4.8006 - val_loss: 67.1165 - val_mae: 5.9821\n",
      "Epoch 68/100\n",
      "11/11 [==============================] - 0s 23ms/step - loss: 50.9764 - mae: 4.7731 - val_loss: 66.0799 - val_mae: 5.9157\n",
      "Epoch 69/100\n",
      "11/11 [==============================] - 0s 22ms/step - loss: 50.4169 - mae: 4.7143 - val_loss: 65.2722 - val_mae: 5.8689\n",
      "Epoch 70/100\n",
      "11/11 [==============================] - 0s 16ms/step - loss: 49.8511 - mae: 4.6806 - val_loss: 63.8721 - val_mae: 5.8227\n",
      "Epoch 71/100\n",
      "11/11 [==============================] - 0s 29ms/step - loss: 49.2408 - mae: 4.6474 - val_loss: 63.2232 - val_mae: 5.7764\n",
      "Epoch 72/100\n",
      "11/11 [==============================] - 0s 29ms/step - loss: 48.7421 - mae: 4.6104 - val_loss: 62.2090 - val_mae: 5.7231\n",
      "Epoch 73/100\n",
      "11/11 [==============================] - 0s 15ms/step - loss: 48.3251 - mae: 4.5755 - val_loss: 61.3673 - val_mae: 5.7088\n",
      "Epoch 74/100\n",
      "11/11 [==============================] - 0s 28ms/step - loss: 47.6004 - mae: 4.5409 - val_loss: 59.9259 - val_mae: 5.5803\n",
      "Epoch 75/100\n",
      "11/11 [==============================] - 0s 16ms/step - loss: 47.0863 - mae: 4.4793 - val_loss: 59.0202 - val_mae: 5.5239\n",
      "Epoch 76/100\n",
      "11/11 [==============================] - 0s 22ms/step - loss: 46.5572 - mae: 4.4474 - val_loss: 58.1072 - val_mae: 5.4976\n",
      "Epoch 77/100\n",
      "11/11 [==============================] - 0s 25ms/step - loss: 45.9695 - mae: 4.4225 - val_loss: 57.0239 - val_mae: 5.4098\n",
      "Epoch 78/100\n",
      "11/11 [==============================] - 0s 25ms/step - loss: 45.5066 - mae: 4.3806 - val_loss: 56.2948 - val_mae: 5.4354\n",
      "Epoch 79/100\n",
      "11/11 [==============================] - 0s 15ms/step - loss: 44.9173 - mae: 4.3708 - val_loss: 55.2897 - val_mae: 5.3414\n",
      "Epoch 80/100\n",
      "11/11 [==============================] - 0s 26ms/step - loss: 44.4743 - mae: 4.3239 - val_loss: 54.2434 - val_mae: 5.2906\n",
      "Epoch 81/100\n",
      "11/11 [==============================] - 0s 15ms/step - loss: 43.8408 - mae: 4.2809 - val_loss: 53.0649 - val_mae: 5.2190\n",
      "Epoch 82/100\n",
      "11/11 [==============================] - 0s 32ms/step - loss: 43.3603 - mae: 4.2523 - val_loss: 52.3039 - val_mae: 5.1939\n",
      "Epoch 83/100\n",
      "11/11 [==============================] - 0s 18ms/step - loss: 42.9365 - mae: 4.2323 - val_loss: 51.8267 - val_mae: 5.2063\n",
      "Epoch 84/100\n",
      "11/11 [==============================] - 0s 24ms/step - loss: 42.5626 - mae: 4.2330 - val_loss: 51.0242 - val_mae: 5.1495\n",
      "Epoch 85/100\n",
      "11/11 [==============================] - 0s 22ms/step - loss: 42.1469 - mae: 4.2033 - val_loss: 50.5486 - val_mae: 5.1249\n",
      "Epoch 86/100\n",
      "11/11 [==============================] - 0s 30ms/step - loss: 41.7485 - mae: 4.1885 - val_loss: 49.4022 - val_mae: 4.9848\n",
      "Epoch 87/100\n",
      "11/11 [==============================] - 0s 25ms/step - loss: 41.3755 - mae: 4.1252 - val_loss: 48.7532 - val_mae: 4.9537\n",
      "Epoch 88/100\n",
      "11/11 [==============================] - 0s 27ms/step - loss: 40.9441 - mae: 4.0999 - val_loss: 48.1701 - val_mae: 4.9106\n",
      "Epoch 89/100\n",
      "11/11 [==============================] - 0s 15ms/step - loss: 40.6040 - mae: 4.0672 - val_loss: 47.4703 - val_mae: 4.8794\n",
      "Epoch 90/100\n",
      "11/11 [==============================] - 0s 24ms/step - loss: 40.2732 - mae: 4.0599 - val_loss: 46.7500 - val_mae: 4.8449\n",
      "Epoch 91/100\n",
      "11/11 [==============================] - 0s 22ms/step - loss: 39.8587 - mae: 4.0359 - val_loss: 46.0920 - val_mae: 4.8128\n",
      "Epoch 92/100\n",
      "11/11 [==============================] - 0s 26ms/step - loss: 39.4502 - mae: 4.0170 - val_loss: 45.4327 - val_mae: 4.7124\n",
      "Epoch 93/100\n",
      "11/11 [==============================] - 0s 23ms/step - loss: 39.0874 - mae: 3.9646 - val_loss: 44.9997 - val_mae: 4.7043\n",
      "Epoch 94/100\n",
      "11/11 [==============================] - 0s 15ms/step - loss: 38.7700 - mae: 3.9337 - val_loss: 44.7145 - val_mae: 4.7065\n",
      "Epoch 95/100\n",
      "11/11 [==============================] - 0s 31ms/step - loss: 38.4788 - mae: 3.9243 - val_loss: 44.2665 - val_mae: 4.6925\n",
      "Epoch 96/100\n",
      "11/11 [==============================] - 0s 24ms/step - loss: 38.0788 - mae: 3.9201 - val_loss: 43.6054 - val_mae: 4.5603\n",
      "Epoch 97/100\n",
      "11/11 [==============================] - 0s 23ms/step - loss: 38.0137 - mae: 3.8764 - val_loss: 43.0651 - val_mae: 4.5344\n",
      "Epoch 98/100\n",
      "11/11 [==============================] - 0s 21ms/step - loss: 37.6946 - mae: 3.8541 - val_loss: 42.6268 - val_mae: 4.5256\n",
      "Epoch 99/100\n",
      "11/11 [==============================] - 0s 25ms/step - loss: 37.3058 - mae: 3.8345 - val_loss: 42.4197 - val_mae: 4.5674\n",
      "Epoch 100/100\n",
      "11/11 [==============================] - 0s 16ms/step - loss: 37.0725 - mae: 3.8374 - val_loss: 41.9713 - val_mae: 4.4790\n"
     ]
    }
   ],
   "source": [
    "history = model.fit(X_train_scaled, Y_train, validation_split=0.2, epochs=100)"
   ]
  },
  {
   "cell_type": "markdown",
   "metadata": {},
   "source": [
    "# Evaluation on Test Data"
   ]
  },
  {
   "cell_type": "code",
   "execution_count": 23,
   "metadata": {},
   "outputs": [
    {
     "name": "stdout",
     "output_type": "stream",
     "text": [
      "4/4 [==============================] - 0s 3ms/step - loss: 36.3109 - mae: 4.7909\n"
     ]
    },
    {
     "data": {
      "text/plain": [
       "[36.31092071533203, 4.790930271148682]"
      ]
     },
     "execution_count": 23,
     "metadata": {},
     "output_type": "execute_result"
    }
   ],
   "source": [
    "model.evaluate(X_test_scaled, Y_test)"
   ]
  },
  {
   "cell_type": "markdown",
   "metadata": {},
   "source": [
    "# Model Prediction"
   ]
  },
  {
   "cell_type": "code",
   "execution_count": 24,
   "metadata": {},
   "outputs": [
    {
     "name": "stdout",
     "output_type": "stream",
     "text": [
      "[[17.636604]\n",
      " [37.99783 ]]\n"
     ]
    }
   ],
   "source": [
    "# we get a sample data (the first 2 inputs from the training data)\n",
    "to_predict= X_train_scaled[:2]\n",
    "# we call the predict method\n",
    "predictions = model.predict(to_predict)\n",
    "# print the predictions\n",
    "print(predictions)"
   ]
  },
  {
   "cell_type": "code",
   "execution_count": 25,
   "metadata": {},
   "outputs": [
    {
     "name": "stdout",
     "output_type": "stream",
     "text": [
      "[15.2 42.3]\n"
     ]
    }
   ],
   "source": [
    "print(Y_train[:2])"
   ]
  },
  {
   "cell_type": "code",
   "execution_count": 31,
   "metadata": {},
   "outputs": [
    {
     "data": {
      "text/plain": [
       "(404, 13)"
      ]
     },
     "execution_count": 31,
     "metadata": {},
     "output_type": "execute_result"
    }
   ],
   "source": [
    "X_train.shape"
   ]
  },
  {
   "cell_type": "code",
   "execution_count": 32,
   "metadata": {},
   "outputs": [
    {
     "data": {
      "text/plain": [
       "13"
      ]
     },
     "execution_count": 32,
     "metadata": {},
     "output_type": "execute_result"
    }
   ],
   "source": [
    "X_train.shape[1]"
   ]
  },
  {
   "cell_type": "markdown",
   "metadata": {},
   "source": [
    "# Sir Rauf Example"
   ]
  },
  {
   "cell_type": "code",
   "execution_count": 35,
   "metadata": {
    "scrolled": true
   },
   "outputs": [
    {
     "ename": "TypeError",
     "evalue": "'int' object is not iterable",
     "output_type": "error",
     "traceback": [
      "\u001b[0;31m---------------------------------------------------------------------------\u001b[0m",
      "\u001b[0;31mTypeError\u001b[0m                                 Traceback (most recent call last)",
      "\u001b[0;32m<ipython-input-35-397be49a40c8>\u001b[0m in \u001b[0;36m<module>\u001b[0;34m\u001b[0m\n\u001b[1;32m      1\u001b[0m \u001b[0mnetwork\u001b[0m \u001b[0;34m=\u001b[0m \u001b[0mmodels\u001b[0m\u001b[0;34m.\u001b[0m\u001b[0mSequential\u001b[0m\u001b[0;34m(\u001b[0m\u001b[0;34m)\u001b[0m\u001b[0;34m\u001b[0m\u001b[0;34m\u001b[0m\u001b[0m\n\u001b[0;32m----> 2\u001b[0;31m \u001b[0mnetwork\u001b[0m\u001b[0;34m.\u001b[0m\u001b[0madd\u001b[0m\u001b[0;34m(\u001b[0m\u001b[0mlayers\u001b[0m\u001b[0;34m.\u001b[0m\u001b[0mDense\u001b[0m\u001b[0;34m(\u001b[0m\u001b[0;36m4\u001b[0m\u001b[0;34m,\u001b[0m \u001b[0mactivation\u001b[0m\u001b[0;34m=\u001b[0m\u001b[0;34m'relu'\u001b[0m\u001b[0;34m,\u001b[0m\u001b[0minput_shape\u001b[0m\u001b[0;34m=\u001b[0m\u001b[0;34m(\u001b[0m\u001b[0mX_train\u001b[0m\u001b[0;34m.\u001b[0m\u001b[0mshape\u001b[0m\u001b[0;34m[\u001b[0m\u001b[0;36m1\u001b[0m\u001b[0;34m]\u001b[0m\u001b[0;34m)\u001b[0m\u001b[0;34m)\u001b[0m\u001b[0;34m)\u001b[0m\u001b[0;34m\u001b[0m\u001b[0;34m\u001b[0m\u001b[0m\n\u001b[0m\u001b[1;32m      3\u001b[0m \u001b[0mnetwork\u001b[0m\u001b[0;34m.\u001b[0m\u001b[0madd\u001b[0m\u001b[0;34m(\u001b[0m\u001b[0mlayers\u001b[0m\u001b[0;34m.\u001b[0m\u001b[0mDense\u001b[0m\u001b[0;34m(\u001b[0m\u001b[0;36m2\u001b[0m\u001b[0;34m,\u001b[0m \u001b[0mactivation\u001b[0m\u001b[0;34m=\u001b[0m\u001b[0;34m'relu'\u001b[0m\u001b[0;34m)\u001b[0m\u001b[0;34m)\u001b[0m\u001b[0;34m\u001b[0m\u001b[0;34m\u001b[0m\u001b[0m\n\u001b[1;32m      4\u001b[0m \u001b[0mnetwork\u001b[0m\u001b[0;34m.\u001b[0m\u001b[0madd\u001b[0m\u001b[0;34m(\u001b[0m\u001b[0mlayers\u001b[0m\u001b[0;34m.\u001b[0m\u001b[0mDense\u001b[0m\u001b[0;34m(\u001b[0m\u001b[0;36m4\u001b[0m\u001b[0;34m,\u001b[0m \u001b[0mactivation\u001b[0m\u001b[0;34m=\u001b[0m\u001b[0;34m'relu'\u001b[0m\u001b[0;34m)\u001b[0m\u001b[0;34m)\u001b[0m\u001b[0;34m\u001b[0m\u001b[0;34m\u001b[0m\u001b[0m\n\u001b[1;32m      5\u001b[0m \u001b[0mnetwork\u001b[0m\u001b[0;34m.\u001b[0m\u001b[0madd\u001b[0m\u001b[0;34m(\u001b[0m\u001b[0mlayers\u001b[0m\u001b[0;34m.\u001b[0m\u001b[0mDense\u001b[0m\u001b[0;34m(\u001b[0m\u001b[0;36m16\u001b[0m\u001b[0;34m,\u001b[0m \u001b[0mactivation\u001b[0m\u001b[0;34m=\u001b[0m\u001b[0;34m'softmax'\u001b[0m\u001b[0;34m)\u001b[0m\u001b[0;34m)\u001b[0m\u001b[0;34m\u001b[0m\u001b[0;34m\u001b[0m\u001b[0m\n",
      "\u001b[0;32m~/anaconda3/lib/python3.7/site-packages/tensorflow/python/keras/layers/core.py\u001b[0m in \u001b[0;36m__init__\u001b[0;34m(self, units, activation, use_bias, kernel_initializer, bias_initializer, kernel_regularizer, bias_regularizer, activity_regularizer, kernel_constraint, bias_constraint, **kwargs)\u001b[0m\n\u001b[1;32m   1130\u001b[0m \u001b[0;34m\u001b[0m\u001b[0m\n\u001b[1;32m   1131\u001b[0m     super(Dense, self).__init__(\n\u001b[0;32m-> 1132\u001b[0;31m         activity_regularizer=regularizers.get(activity_regularizer), **kwargs)\n\u001b[0m\u001b[1;32m   1133\u001b[0m \u001b[0;34m\u001b[0m\u001b[0m\n\u001b[1;32m   1134\u001b[0m     \u001b[0mself\u001b[0m\u001b[0;34m.\u001b[0m\u001b[0munits\u001b[0m \u001b[0;34m=\u001b[0m \u001b[0mint\u001b[0m\u001b[0;34m(\u001b[0m\u001b[0munits\u001b[0m\u001b[0;34m)\u001b[0m \u001b[0;32mif\u001b[0m \u001b[0;32mnot\u001b[0m \u001b[0misinstance\u001b[0m\u001b[0;34m(\u001b[0m\u001b[0munits\u001b[0m\u001b[0;34m,\u001b[0m \u001b[0mint\u001b[0m\u001b[0;34m)\u001b[0m \u001b[0;32melse\u001b[0m \u001b[0munits\u001b[0m\u001b[0;34m\u001b[0m\u001b[0;34m\u001b[0m\u001b[0m\n",
      "\u001b[0;32m~/anaconda3/lib/python3.7/site-packages/tensorflow/python/training/tracking/base.py\u001b[0m in \u001b[0;36m_method_wrapper\u001b[0;34m(self, *args, **kwargs)\u001b[0m\n\u001b[1;32m    454\u001b[0m     \u001b[0mself\u001b[0m\u001b[0;34m.\u001b[0m\u001b[0m_self_setattr_tracking\u001b[0m \u001b[0;34m=\u001b[0m \u001b[0;32mFalse\u001b[0m  \u001b[0;31m# pylint: disable=protected-access\u001b[0m\u001b[0;34m\u001b[0m\u001b[0;34m\u001b[0m\u001b[0m\n\u001b[1;32m    455\u001b[0m     \u001b[0;32mtry\u001b[0m\u001b[0;34m:\u001b[0m\u001b[0;34m\u001b[0m\u001b[0;34m\u001b[0m\u001b[0m\n\u001b[0;32m--> 456\u001b[0;31m       \u001b[0mresult\u001b[0m \u001b[0;34m=\u001b[0m \u001b[0mmethod\u001b[0m\u001b[0;34m(\u001b[0m\u001b[0mself\u001b[0m\u001b[0;34m,\u001b[0m \u001b[0;34m*\u001b[0m\u001b[0margs\u001b[0m\u001b[0;34m,\u001b[0m \u001b[0;34m**\u001b[0m\u001b[0mkwargs\u001b[0m\u001b[0;34m)\u001b[0m\u001b[0;34m\u001b[0m\u001b[0;34m\u001b[0m\u001b[0m\n\u001b[0m\u001b[1;32m    457\u001b[0m     \u001b[0;32mfinally\u001b[0m\u001b[0;34m:\u001b[0m\u001b[0;34m\u001b[0m\u001b[0;34m\u001b[0m\u001b[0m\n\u001b[1;32m    458\u001b[0m       \u001b[0mself\u001b[0m\u001b[0;34m.\u001b[0m\u001b[0m_self_setattr_tracking\u001b[0m \u001b[0;34m=\u001b[0m \u001b[0mprevious_value\u001b[0m  \u001b[0;31m# pylint: disable=protected-access\u001b[0m\u001b[0;34m\u001b[0m\u001b[0;34m\u001b[0m\u001b[0m\n",
      "\u001b[0;32m~/anaconda3/lib/python3.7/site-packages/tensorflow/python/keras/engine/base_layer.py\u001b[0m in \u001b[0;36m__init__\u001b[0;34m(self, trainable, name, dtype, dynamic, **kwargs)\u001b[0m\n\u001b[1;32m    371\u001b[0m         \u001b[0;32melse\u001b[0m\u001b[0;34m:\u001b[0m\u001b[0;34m\u001b[0m\u001b[0;34m\u001b[0m\u001b[0m\n\u001b[1;32m    372\u001b[0m           \u001b[0mbatch_size\u001b[0m \u001b[0;34m=\u001b[0m \u001b[0;32mNone\u001b[0m\u001b[0;34m\u001b[0m\u001b[0;34m\u001b[0m\u001b[0m\n\u001b[0;32m--> 373\u001b[0;31m         \u001b[0mbatch_input_shape\u001b[0m \u001b[0;34m=\u001b[0m \u001b[0;34m(\u001b[0m\u001b[0mbatch_size\u001b[0m\u001b[0;34m,\u001b[0m\u001b[0;34m)\u001b[0m \u001b[0;34m+\u001b[0m \u001b[0mtuple\u001b[0m\u001b[0;34m(\u001b[0m\u001b[0mkwargs\u001b[0m\u001b[0;34m[\u001b[0m\u001b[0;34m'input_shape'\u001b[0m\u001b[0;34m]\u001b[0m\u001b[0;34m)\u001b[0m\u001b[0;34m\u001b[0m\u001b[0;34m\u001b[0m\u001b[0m\n\u001b[0m\u001b[1;32m    374\u001b[0m       \u001b[0mself\u001b[0m\u001b[0;34m.\u001b[0m\u001b[0m_batch_input_shape\u001b[0m \u001b[0;34m=\u001b[0m \u001b[0mbatch_input_shape\u001b[0m\u001b[0;34m\u001b[0m\u001b[0;34m\u001b[0m\u001b[0m\n\u001b[1;32m    375\u001b[0m \u001b[0;34m\u001b[0m\u001b[0m\n",
      "\u001b[0;31mTypeError\u001b[0m: 'int' object is not iterable"
     ]
    }
   ],
   "source": [
    "network = models.Sequential()\n",
    "network.add(layers.Dense(4, activation='relu',input_shape=(X_train.shape[1])))\n",
    "network.add(layers.Dense(2, activation='relu'))\n",
    "network.add(layers.Dense(4, activation='relu'))\n",
    "network.add(layers.Dense(16, activation='softmax'))"
   ]
  },
  {
   "cell_type": "code",
   "execution_count": null,
   "metadata": {},
   "outputs": [],
   "source": []
  }
 ],
 "metadata": {
  "kernelspec": {
   "display_name": "Python 3",
   "language": "python",
   "name": "python3"
  },
  "language_info": {
   "codemirror_mode": {
    "name": "ipython",
    "version": 3
   },
   "file_extension": ".py",
   "mimetype": "text/x-python",
   "name": "python",
   "nbconvert_exporter": "python",
   "pygments_lexer": "ipython3",
   "version": "3.7.6"
  }
 },
 "nbformat": 4,
 "nbformat_minor": 4
}
